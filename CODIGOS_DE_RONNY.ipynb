{
  "cells": [
    {
      "cell_type": "markdown",
      "metadata": {
        "id": "view-in-github",
        "colab_type": "text"
      },
      "source": [
        "<a href=\"https://colab.research.google.com/github/Ronny706/Ronny706.github.io/blob/main/CODIGOS_DE_RONNY.ipynb\" target=\"_parent\"><img src=\"https://colab.research.google.com/assets/colab-badge.svg\" alt=\"Open In Colab\"/></a>"
      ]
    },
    {
      "cell_type": "markdown",
      "metadata": {
        "id": "WNv-pvAkuDHN"
      },
      "source": [
        "series"
      ]
    },
    {
      "cell_type": "code",
      "execution_count": null,
      "metadata": {
        "colab": {
          "background_save": true
        },
        "id": "zJyhBSHob8aP"
      },
      "outputs": [],
      "source": [
        "n = int(input(\"ingrese cantidad de N terminos\"))\n",
        "m = int(1)\n",
        "for i in range(1,n+1,1):\n",
        "  m=m*2\n",
        "  if(i % 2==1):\n",
        "    print(i,\"/\",m)  \n",
        "  else:\n",
        "    print(m,\"/\",i)    "
      ]
    },
    {
      "cell_type": "markdown",
      "metadata": {
        "id": "NBnGUWWLuKuu"
      },
      "source": [
        "Sumar, restar, multiplicar y dividir dos números, Mostrar su resultado"
      ]
    },
    {
      "cell_type": "code",
      "execution_count": null,
      "metadata": {
        "id": "ZpPSp7x5uO5p"
      },
      "outputs": [],
      "source": [
        "a = int(input(\"ingrese el primer numero: \"))\n",
        "b = int(input(\"ingrese el segundo numero: \"))\n",
        "print(\"la suma es: \",a+b)\n",
        "print(\"la resta es: \",a-b)\n",
        "print(\"la multiplicacion es: \",a*b)\n",
        "print(\"la division es: \",a/b) "
      ]
    },
    {
      "cell_type": "markdown",
      "metadata": {
        "id": "bXX2hhxQxTZt"
      },
      "source": [
        "Hallar el factorial "
      ]
    },
    {
      "cell_type": "code",
      "execution_count": null,
      "metadata": {
        "id": "iTmRLQSexUVs"
      },
      "outputs": [],
      "source": [
        "f = int(input(\"ingrese el numero para obtener su factorial: \"))\n",
        "n = int(1)\n",
        "for i in range(1,f+1,1):\n",
        "  n=n*i\n",
        "print(\"el factorial de\",f,\"es: \",n)  "
      ]
    },
    {
      "cell_type": "markdown",
      "metadata": {
        "id": "7dnLNWtdzYn2"
      },
      "source": [
        " Realizar un programa para saber el mayor de tres números"
      ]
    },
    {
      "cell_type": "code",
      "execution_count": null,
      "metadata": {
        "id": "iXMQTQMOzZls"
      },
      "outputs": [],
      "source": [
        "\n",
        "m = int(0)\n",
        "for i in range(0,3,1):\n",
        "  a = int(input(\"ingrese un numero: \"))\n",
        "  if(a>m and a>0):\n",
        "    m=a    \n",
        "print(\"el numero mayor es: \",m) "
      ]
    },
    {
      "cell_type": "markdown",
      "metadata": {
        "id": "iLeMcGgeQCnv"
      },
      "source": [
        "Construir un diagrama de flujo, tal que dado como dato la calificación de un alumno, escriba \"aprobado\" en caso de que esa calificación sea mayor a 10."
      ]
    },
    {
      "cell_type": "code",
      "execution_count": null,
      "metadata": {
        "id": "MWdhjCZsQD6M"
      },
      "outputs": [],
      "source": [
        "anio = int(input(\"ingrese el año para verificar si es bisiesto: \"))\n",
        "if(anio%4==0):\n",
        "  print(\"año bisiesto\")\n",
        "else:\n",
        "  print(\"año No bisiesto\")"
      ]
    },
    {
      "cell_type": "markdown",
      "metadata": {
        "id": "oH2rhCuMQYPq"
      },
      "source": [
        "Escribir un programa para generar los N primeros números primos, sabiendo que N es un numero positivo"
      ]
    },
    {
      "cell_type": "code",
      "execution_count": null,
      "metadata": {
        "id": "_pVVdVXNR2-o"
      },
      "outputs": [],
      "source": [
        "n = int(input(\"ingrese un numero: \"))\n",
        "c=1\n",
        "p=2\n",
        "d=2\n",
        "if(n>0):\n",
        "  while(c<=n):\n",
        "    if(p%d==0):\n",
        "      if(p==d):\n",
        "        print(p,\",\")\n",
        "        c=c+1\n",
        "      d=2\n",
        "      p=p+1\n",
        "    else:\n",
        "      d=d+1\n",
        "else:\n",
        "  print(\"el numero introducido debe ser mayor a 0!!\")\n",
        "\n",
        "  "
      ]
    },
    {
      "cell_type": "markdown",
      "metadata": {
        "id": "JM3WDn-eXGd2"
      },
      "source": [
        "Mostrar los N primero términos de la serie de Fibonacci"
      ]
    },
    {
      "cell_type": "code",
      "execution_count": null,
      "metadata": {
        "id": "jJjINN4vXIq1"
      },
      "outputs": [],
      "source": [
        "n = int(input(\"ingrese un numero: \"))\n",
        "a=0\n",
        "b=1\n",
        "for i in range(1,n+1,1):\n",
        "  print(a,\",\")\n",
        "  c=a+b\n",
        "  a=b\n",
        "  b=c"
      ]
    },
    {
      "cell_type": "markdown",
      "source": [
        "Leer 3 números enteros, ordenarlos de mayor a menor"
      ],
      "metadata": {
        "id": "gKeSsjpVYb25"
      }
    },
    {
      "cell_type": "code",
      "execution_count": null,
      "metadata": {
        "id": "vFv5O5itYvsl"
      },
      "outputs": [],
      "source": [
        "a=int(input(\"ingrese un numero para ordenarlos: \"))\n",
        "b=int(input(\"ingrese un numero para ordenarlos: \"))\n",
        "c=int(input(\"ingrese un numero para ordenarlos: \"))\n",
        "if(a>=b and a>=c):\n",
        "  print(a,\" - \")\n",
        "  if(b>=c):\n",
        "    print(b,\" - \",c)\n",
        "  else:\n",
        "    print(c,\" - \",b)\n",
        "else:\n",
        "  if(b>=a and b>=c):\n",
        "    print(b,\" - \")\n",
        "    if(a>=c):\n",
        "      print(a,\" - \",c)\n",
        "    else:\n",
        "      print(c,\" - \",a)\n",
        "  else:\n",
        "    if(c>=a and c>=b):\n",
        "      print(c,\" - \")\n",
        "      if(a>=b):\n",
        "        print(a,\" - \",b)\n",
        "      else:\n",
        "        print(b,\" - \",a)\n"
      ]
    },
    {
      "cell_type": "markdown",
      "metadata": {
        "id": "E9orCDxe2xeK"
      },
      "source": [
        "Introducir tres números por teclado en las variables A, B y C respectivamente. Los números deben ser enteros y diferentes entre sí. Imprimir por pantalla el menor de los tres.\n"
      ]
    },
    {
      "cell_type": "code",
      "execution_count": null,
      "metadata": {
        "id": "1LSVgdCg21JO"
      },
      "outputs": [],
      "source": [
        "A=int(input(\"ingrese un numero para ordenarlos: \"))\n",
        "B=int(input(\"ingrese un numero para ordenarlos: \"))\n",
        "C=int(input(\"ingrese un numero para ordenarlos: \"))\n",
        "if(A!=B and B!=C and A>0 and B>0 and C>0):\n",
        "  if(A<B and A<C):\n",
        "      print(\"el menor es: \",A)\n",
        "  else:\n",
        "    if(B<A and B<C):\n",
        "      print(\"el menor es: \",B)\n",
        "    else:\n",
        "      if(C<B and C<A):\n",
        "        print(\"el menor es: \",C)\n",
        "else:\n",
        "  print(\"los numeros no son enteros y/o no son diferentes entre si\")"
      ]
    },
    {
      "cell_type": "markdown",
      "metadata": {
        "id": "c4NqeUhs5thN"
      },
      "source": [
        "Mostrar los N términos de la serie"
      ]
    },
    {
      "cell_type": "code",
      "execution_count": null,
      "metadata": {
        "id": "Y17uhJWG5vVw"
      },
      "outputs": [],
      "source": [
        "n = int(input(\"ingrese un numero de serie: \"))\n",
        "num=3\n",
        "den=2\n",
        "for i in range(1,n+1,1):\n",
        "  if(i%2==1):\n",
        "    print(num,\"/\",den)\n",
        "  else:\n",
        "    print(den,\"/\",num)\n",
        "  num=num+3\n",
        "  den=den+2\n"
      ]
    },
    {
      "cell_type": "markdown",
      "metadata": {
        "id": "KV_un00fjOK9"
      },
      "source": [
        "hola mundo"
      ]
    },
    {
      "cell_type": "code",
      "execution_count": null,
      "metadata": {
        "id": "oAFv90xVjVe4"
      },
      "outputs": [],
      "source": [
        "print(\"Hola mundo!\")"
      ]
    },
    {
      "cell_type": "markdown",
      "metadata": {
        "id": "YTajIOSzmFba"
      },
      "source": [
        "Escriba un programa que lea tres números enteros separados por un espacio e imprima la suma."
      ]
    },
    {
      "cell_type": "code",
      "execution_count": null,
      "metadata": {
        "id": "FPgkM2IzmGPa"
      },
      "outputs": [],
      "source": [
        "a,b,c=map(int,input().split())\n",
        "print(a+b+c)"
      ]
    },
    {
      "cell_type": "markdown",
      "metadata": {
        "id": "ha9g-jXco52h"
      },
      "source": [
        "La entrada consiste en un numero entero que representa la cantidad de segundos que indica la maquina.\n",
        "\n"
      ]
    },
    {
      "cell_type": "code",
      "execution_count": null,
      "metadata": {
        "id": "PRCD3hEQpIEH"
      },
      "outputs": [],
      "source": [
        "x=int(input())\n",
        "print(x//3600,(x%3600)//60,(x%60))"
      ]
    },
    {
      "cell_type": "markdown",
      "metadata": {
        "id": "fk3MI4GyBqmT"
      },
      "source": [
        ""
      ]
    },
    {
      "cell_type": "markdown",
      "metadata": {
        "id": "XZGPDbsZ3-p0"
      },
      "source": [
        "Escriba un programa que calcule el promedio de 4 notas ingresadas por el usuario:\n",
        "\n",
        "Las notas se ingresan una por linea como el ejemplo."
      ]
    },
    {
      "cell_type": "code",
      "execution_count": null,
      "metadata": {
        "id": "0Tw3cQO23_fE"
      },
      "outputs": [],
      "source": [
        "a=int(input())\n",
        "b=int(input())\n",
        "c=int(input())\n",
        "d=int(input())\n",
        "s=a+b+c+d\n",
        "print(\"{:.3f}\".format(s/4))                           #numero con dos cifras decimales \"{:.(n veces de decimales)f}\""
      ]
    },
    {
      "cell_type": "markdown",
      "metadata": {
        "id": "5lgAxcpqBv0Y"
      },
      "source": [
        "Doblando Papeles"
      ]
    },
    {
      "cell_type": "code",
      "execution_count": null,
      "metadata": {
        "id": "Gwlt8f68BwbH"
      },
      "outputs": [],
      "source": [
        "a=int(input())\n",
        "print(2**a)"
      ]
    },
    {
      "cell_type": "markdown",
      "metadata": {
        "id": "eWfvVd5dwhub"
      },
      "source": [
        "Hemos sacado A bolas de una caja que contenía N bolas y luego hemos puesto B bolas nuevas en esa caja. ¿Cuántas bolas contiene ahora la caja?"
      ]
    },
    {
      "cell_type": "code",
      "execution_count": null,
      "metadata": {
        "id": "vItAoQWNwifj"
      },
      "outputs": [],
      "source": [
        "a,b,c=map(int,input().split())\n",
        "print(a-b+c)"
      ]
    },
    {
      "cell_type": "markdown",
      "metadata": {
        "id": "SEL89px44fHx"
      },
      "source": [
        "Debes imprimir N arbolitos en el formato dado, toma en cuenta los espacios."
      ]
    },
    {
      "cell_type": "code",
      "execution_count": null,
      "metadata": {
        "id": "AG3rT0ju4f4E"
      },
      "outputs": [],
      "source": [
        "n=int(input())\n",
        "for i in range(1,n+1,1):\n",
        "  print(\"a\")\n"
      ]
    },
    {
      "cell_type": "markdown",
      "metadata": {
        "id": "-kI7KTJsCu9Y"
      },
      "source": [
        "binario"
      ]
    },
    {
      "cell_type": "code",
      "execution_count": null,
      "metadata": {
        "id": "YM-8VpNPCxTu"
      },
      "outputs": [],
      "source": [
        "n=int(input())\n",
        "b=bin(n)\n",
        "print(b)"
      ]
    },
    {
      "cell_type": "markdown",
      "metadata": {
        "id": "r_EkIBsbKqfx"
      },
      "source": [
        "Sume un segundo"
      ]
    },
    {
      "cell_type": "code",
      "execution_count": null,
      "metadata": {
        "id": "k92NTWoFKrgN"
      },
      "outputs": [],
      "source": [
        "a,b,c=map(int,input().split())\n",
        "x=(a*3600)+(b*60)+c+1\n",
        "if(x==86400):\n",
        "    a=0\n",
        "    b=0\n",
        "    c=0\n",
        "    x=(a*3600)+(b*60)+c\n",
        "print(\"{:02d}:{:02d}:{:02d}\".format(x//3600, (x%3600)//60, (x%60)))             #formato reloj con dos puntos"
      ]
    },
    {
      "cell_type": "markdown",
      "metadata": {
        "id": "Xgjj9WyJRMuq"
      },
      "source": [
        "Distancia entre dos puntos"
      ]
    },
    {
      "cell_type": "code",
      "execution_count": null,
      "metadata": {
        "id": "gmpImWnhRQIK"
      },
      "outputs": [],
      "source": [
        "a,b,c,d=map(float,input().split())\n",
        "x=((a-c)**(2)+(b-d)**(2))**(1/2)\n",
        "print(\"{:.2f}\".format(x))\n"
      ]
    },
    {
      "cell_type": "markdown",
      "metadata": {
        "id": "kGGftLp1m9p8"
      },
      "source": [
        "Descripción\n",
        "El problema pide cambiar un determinado bit un numero entero. Recordamos que los numeros enteros son de 32 bits.\n",
        "\n",
        "Supongamos que tenemos el numero 10 cuya representación binaria es 1010. Ahora nos piden cambiar el segundo bit a 1, el resultado será 1110 cuya representación decimal es es el 14.\n",
        "\n",
        "Entrada\n",
        "La entrada consiste de un numero entero y el bit que queremos cambiar. En el ejemplo de entrada hay múltiples ejemplos, sin embargo cada caso de prueba solo trae un caso.\n",
        "\n",
        "Salida\n",
        "En la salida escriba en una línea dos números separados por un espacio. El primero el resultado de colocar el bit solicitado a uno y el segundo el resultado de cambiar el bit solicitado, si es uno cambie a 0 y si es cero cambie a 1.\n",
        "\n",
        "Ejemplo Entrada\n",
        "1234 7\n",
        "10 3\n",
        "10 2\n",
        "Ejemplo Salida\n",
        "1234 1106\n",
        "10 2\n",
        "14 14"
      ]
    },
    {
      "cell_type": "code",
      "execution_count": null,
      "metadata": {
        "id": "fIsYMnwJnKfI"
      },
      "outputs": [],
      "source": [
        "a,b=map(int,input().split())\n",
        "print(bin(a))\n",
        "print(bin(a>>b))\n",
        "print(bin(a<<b))\n",
        "print(bin(a>>b^a))"
      ]
    },
    {
      "cell_type": "markdown",
      "metadata": {
        "id": "cZcyJGDjCnMc"
      },
      "source": [
        ""
      ]
    },
    {
      "cell_type": "markdown",
      "metadata": {
        "id": "AzCygrudhLCJ"
      },
      "source": [
        "bowl \n",
        "1:0\n",
        "2:4\n",
        "3:7\n",
        "4:9 \n"
      ]
    },
    {
      "cell_type": "code",
      "execution_count": null,
      "metadata": {
        "id": "ybUqdDFrhMTI"
      },
      "outputs": [],
      "source": [
        "a,b=map(int,input().split())\n",
        "a=((a*(a+1)//2)-((a-b)*(a-b+1)//2))\n",
        "print(a)"
      ]
    },
    {
      "cell_type": "markdown",
      "metadata": {
        "id": "yb_pK7ZAComT"
      },
      "source": [
        "triangulo equiliatreo"
      ]
    },
    {
      "cell_type": "code",
      "execution_count": null,
      "metadata": {
        "id": "Q0VL9A4fCr4c"
      },
      "outputs": [],
      "source": [
        "n=int(input())\n",
        "a=((((3)**(1/2))*(n**2))/4)\n",
        "print(\"{:.2f}\".format(a))"
      ]
    },
    {
      "cell_type": "markdown",
      "metadata": {
        "id": "ZeuPlj5qEa2k"
      },
      "source": [
        "domino"
      ]
    },
    {
      "cell_type": "code",
      "execution_count": null,
      "metadata": {
        "id": "AjbBSesHEcLU"
      },
      "outputs": [],
      "source": [
        "a,b=map(int,input().split())\n",
        "c=a*b\n",
        "print(c//2)"
      ]
    },
    {
      "cell_type": "markdown",
      "metadata": {
        "id": "zR0IKPPsFPqq"
      },
      "source": [
        "Comparar Palabras"
      ]
    },
    {
      "cell_type": "code",
      "execution_count": null,
      "metadata": {
        "id": "ZdResPEMoiVx"
      },
      "outputs": [],
      "source": [
        "a,b=map(str,input().split())\n",
        "if(a==b):\n",
        "  print(a,\"=\",b)\n",
        "if(a>b):\n",
        "  print(a,\">\",b)\n",
        "if(a<b):\n",
        "  print(a,\"<\",b)\n"
      ]
    },
    {
      "cell_type": "markdown",
      "metadata": {
        "id": "HLvAcQSPGXua"
      },
      "source": [
        "Máximo de N números"
      ]
    },
    {
      "cell_type": "code",
      "execution_count": null,
      "metadata": {
        "id": "RLcI4WD6GYVl"
      },
      "outputs": [],
      "source": [
        "a,b=map(int,input().split())\n",
        "print(max(a,b))"
      ]
    },
    {
      "cell_type": "markdown",
      "metadata": {
        "id": "8iKJx7WvKQnp"
      },
      "source": [
        "sueldo con bonos![photo4990516896193424133.jpg](data:image/jpeg;base64,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)"
      ]
    },
    {
      "cell_type": "code",
      "execution_count": null,
      "metadata": {
        "id": "E6sC9MWlKtX5"
      },
      "outputs": [],
      "source": [
        "S,A=map(int,input().split())\n",
        "if(A<5):\n",
        "  print(\"no tiene bono\")\n",
        "elif(A>5 and A<=10):\n",
        "  S=S+(S*(5/100))\n",
        "  print(\"su sueldo total es\",S)\n",
        "elif(A>10):\n",
        "  S=S+(S*(10/100))\n",
        "  print(\"su sueldo total es\",S)"
      ]
    },
    {
      "cell_type": "markdown",
      "metadata": {
        "id": "js6p_lPcZ5KB"
      },
      "source": [
        "Escriba un programa que reciba como entrada los tres lados de un triángulo, e indique:"
      ]
    },
    {
      "cell_type": "code",
      "execution_count": null,
      "metadata": {
        "id": "O7V9EHA0Z52_"
      },
      "outputs": [],
      "source": [
        "a,b,c=map(float,input().split())\n",
        "if(a>b+c or b>a+c or c>a+b):\n",
        "  print(\"El triangulo es invalido\") \n",
        "else:\n",
        "  if(a==b and a==c and b==c):\n",
        "      print(\"El triangulo es equilatero\")\n",
        "  elif(a==b or a==c or b==c ):\n",
        "    print(\"El triangulo es isoseles\")\n",
        "  elif(((a**2)==(b**2)+(c**2)) or ((b**2)==(a**2)+(c**2)) or ((c**2)==(b**2)+(a**2))):\n",
        "    print(\"El triangulo es rectangulo\")\n",
        "  elif(a!=b and a!=c and b!=c ):\n",
        "    print(\"El triangulo es escaleno\")"
      ]
    },
    {
      "cell_type": "markdown",
      "metadata": {
        "id": "mdtFJSRNh5jM"
      },
      "source": [
        "Escriba un programa que simule una calculadora básica, este puede realizar operación de suma, resta, multiplicación y división.\n",
        "\n",
        "El programa debe recibir como entrada 2 números reales y un operador, que puede ser +, -, *, / y **.\n",
        "\n",
        "La salida del programa debe ser el resultado de la operación"
      ]
    },
    {
      "cell_type": "code",
      "execution_count": null,
      "metadata": {
        "id": "KSRy3BClh6cd"
      },
      "outputs": [],
      "source": [
        "a=int(input())\n",
        "x=str(input())\n",
        "b=int(input())\n",
        "if(x==\"+\"):\n",
        "  print(a,x,b,\"=\",a+b)\n",
        "elif(x==\"-\"):\n",
        "  print(a,x,b,\"=\",a-b)\n",
        "elif(x==\"*\"):\n",
        "  print(a,x,b,\"=\",a*b)\n",
        "elif(x==\"/\"):\n",
        "  print(a,x,b,\"=\",a/b)\n",
        "elif(x==\"**\"):\n",
        "  print(a,x,b,\"=\",a**(b))"
      ]
    },
    {
      "cell_type": "markdown",
      "metadata": {
        "id": "BlTzXJ7qkam_"
      },
      "source": [
        "Un partido de tenis se divide en sets. Para ganar un set, un jugador debe ganar 6 juegos, pero además debe haber ganado por lo menos dos juegos más que su rival. Si el set está empatado a 5 juegos, el ganador es el primero que llegue a 7. Si el set está empatado a 6 juegos, el set se define en un último juego, en cuyo caso el resultado final es 7-6.\n"
      ]
    },
    {
      "cell_type": "code",
      "execution_count": null,
      "metadata": {
        "id": "Ze1AJ-p6kelU"
      },
      "outputs": [],
      "source": [
        "a,b=map(float,input().split())\n",
        "\n",
        "if(a==7 and b==6):\n",
        "  print(\"Gano A\")\n",
        "elif(a==6 and b==7):\n",
        "  print(\"Gano B\")\n",
        "\n",
        "elif(a==7 and b==5):\n",
        "  print(\"Gano A\")\n",
        "elif(a==5 and b==7):\n",
        "  print(\"Gano B\")\n",
        "\n",
        "elif(a==6 and b==4):\n",
        "  print(\"Gano A\")\n",
        "elif(a==4 and b==6):\n",
        "  print(\"Gano B\")\n",
        "elif(a==6 and b==5):\n",
        "  print(\"Aun no termina\")\n",
        "elif(a==5 and b==6):\n",
        "  print(\"Aun no termina\")\n",
        "elif(a==b):\n",
        "  print(\"Aun no termina\")\n",
        "elif(a-2>b or b-2>a ):\n",
        "  print(\"Invalido\")\n",
        "elif(a!= 7 and a!=6 and b!=6 and b!= 7):\n",
        "  print(\"Aun no termina\")"
      ]
    },
    {
      "cell_type": "markdown",
      "metadata": {
        "id": "uWRhjJBB9CdE"
      },
      "source": [
        "Años Bisiesto"
      ]
    },
    {
      "cell_type": "code",
      "execution_count": null,
      "metadata": {
        "id": "o4hIj6J59DFI"
      },
      "outputs": [],
      "source": [
        "a=int(input())\n",
        "if( a % 100 != 0):\n",
        "  if(a % 4 == 0):\n",
        "    print(\"si\") \n",
        "  else:\n",
        "    print(\"no\")\n",
        "\n",
        "elif( a % 400 == 0):\n",
        "  print(\"si\")\n",
        "\n",
        "else:\n",
        "  print(\"no\")"
      ]
    },
    {
      "cell_type": "markdown",
      "metadata": {
        "id": "sHI_JhO4Vgjw"
      },
      "source": [
        "Escriba un programa que lea un número  e imprima la suma de sus dígitos.\n",
        "\n",
        "#MULTIPLES CASOS DE PRUEBA EN PYTHON\n",
        "\n",
        "\n",
        "    while True:\n",
        "     try:\n",
        "          #codigo\n",
        "     except EOFError:\n",
        "          break"
      ]
    },
    {
      "cell_type": "code",
      "execution_count": null,
      "metadata": {
        "id": "Foo6KdFoWSoh"
      },
      "outputs": [],
      "source": [
        "while True: \n",
        "     try:\n",
        "          x=str(input())\n",
        "          b=len(x)                        #cuenta las letras de una cadena\n",
        "          s=0\n",
        "          for i in range(b):\n",
        "            r=x[i:i+1]\n",
        "            s=s+int(r)\n",
        "          print(\"La suma de los digitos de\",x,\"es\",s)\n",
        "     except EOFError:\n",
        "          break"
      ]
    },
    {
      "cell_type": "markdown",
      "metadata": {
        "id": "Idp9LbTVnyxg"
      },
      "source": [
        "Se pide que lea una letra y si es minúscula la convierta en mayúscula y viceversa."
      ]
    },
    {
      "cell_type": "code",
      "execution_count": null,
      "metadata": {
        "id": "NF05ifA4ny9X"
      },
      "outputs": [],
      "source": [
        "a=str(input())\n",
        "if(a>='a' and a<='z'):\n",
        "  print(a.upper())          #convierte de min a MAY\n",
        "if(a>='A' and a<='Z'):\n",
        "  print(a.lower())          #convierte de MAY a min\n",
        "                         \n"
      ]
    },
    {
      "cell_type": "markdown",
      "metadata": {
        "id": "ZfopZX6u5y9d"
      },
      "source": [
        "El problema consiste en leer todos los datos y imprimir la suma de los mismos en una línea"
      ]
    },
    {
      "cell_type": "code",
      "execution_count": null,
      "metadata": {
        "id": "xTHgZEOc5zg9"
      },
      "outputs": [],
      "source": [
        "x=int(input())\n",
        "s=0\n",
        "for _ in range(x):\n",
        "  y=int(input())\n",
        "  s=s+y\n",
        "print(s)"
      ]
    },
    {
      "cell_type": "markdown",
      "metadata": {
        "id": "2pln4BQ36mE5"
      },
      "source": [
        "La entrada consiste de múltiples casos de prueba. La primera linea contiene un numero entero que indica el número de casos de prueba. La primera de cada caso de prueba línea contiene un número entero n que indica cuantos números leer.\n",
        "Luego siguen n lineas cada una con un numero entero."
      ]
    },
    {
      "cell_type": "code",
      "execution_count": null,
      "metadata": {
        "id": "rwP8YCMz6mzk"
      },
      "outputs": [],
      "source": [
        "z=int(input())\n",
        "s=0\n",
        "for _ in range(z):\n",
        "  s=0\n",
        "  x=int(input())\n",
        "  for _ in range(x):\n",
        "    y=int(input())\n",
        "    s=s+y\n",
        "  print(s)\n"
      ]
    },
    {
      "cell_type": "markdown",
      "metadata": {
        "id": "5oFX0D4B8IcE"
      },
      "source": [
        "Los números armónicos se definen como:\n",
        "\n",
        "Hn=1/1+1/2+1/3+.....+1/n\n",
        "\n",
        "Donde Hn es el n-simo número armonico."
      ]
    },
    {
      "cell_type": "code",
      "execution_count": null,
      "metadata": {
        "id": "3EgdybXz8JRG"
      },
      "outputs": [],
      "source": [
        "x=int(input())\n",
        "s=0\n",
        "for i in range(1,x+1):\n",
        "  s=s+(1/int(i))\n",
        "print(\"{:.4f}\".format(s))    \n"
      ]
    },
    {
      "cell_type": "markdown",
      "metadata": {
        "id": "ylQxg4xX9ifK"
      },
      "source": [
        "Descripción\n",
        "Se le pide escribir un programa para validar fechas del calendario Gregoriano. Es decir él que utilizamos comúnmente.\n",
        "Los años bisiestos tienen 366 días. y son aquellos que son múltiplos de 4 y no terminan con dos ceros, ó que después de quitar los dos ceros del final son divisibles por 4. Por ejemplo 1800, y 1900 no son años bisiestos, sin embargo el año 2000 si lo fue.\n",
        "Entrada\n",
        "La entrada consiste de varias lineas. La primera linea contiene un numero N que indica cuantas fechas hay que verificar.\n",
        "Luego siguen N lineas con las fechas a verificar. Cada línea contiene tres números enteros que representan el día, mes y año respectivamente."
      ]
    },
    {
      "cell_type": "code",
      "execution_count": null,
      "metadata": {
        "id": "GbRCaRlk9jH9"
      },
      "outputs": [],
      "source": [
        "x=int(input())\n",
        "for _ in range(x):\n",
        "  a,b,c=0,0,0\n",
        "  a,b,c=map(int,input().split())\n",
        "  if(a>0 and a<32 and b>0 and b<13 and c>0):\n",
        "    if( c % 100 != 0):\n",
        "      if(c % 4 == 0  ):\n",
        "         if(b==2 ):#-------\n",
        "          if(a<30):\n",
        "            print(\"Fecha correcta\")\n",
        "          else:\n",
        "            print(\"Fecha incorrecta\")\n",
        "         else:\n",
        "          print(\"Fecha correcta\")#-------\n",
        "      else:\n",
        "        if(b==2 ):#-------\n",
        "          if(a>28):\n",
        "            print(\"Fecha incorrecta\")\n",
        "          else:\n",
        "            print(\"Fecha correcta\")\n",
        "        else:\n",
        "            print(\"Fecha correcta\")#-------\n",
        "    elif( c % 400 == 0):\n",
        "       if(b==2 ):#-------\n",
        "          if(a<30):\n",
        "            print(\"Fecha correcta\")\n",
        "          else:\n",
        "            print(\"Fecha incorrecta\")\n",
        "       else:\n",
        "          print(\"Fecha correcta\")#-------\n",
        "    else:\n",
        "      if(b==2 ):#-------\n",
        "          if(a>28):\n",
        "            print(\"Fecha incorrecta\")\n",
        "          else:\n",
        "            print(\"Fecha correcta\")\n",
        "      else:\n",
        "          print(\"Fecha correcta\")#-------\n",
        "  else:\n",
        "    print(\"Fecha incorrecta\")"
      ]
    },
    {
      "cell_type": "markdown",
      "metadata": {
        "id": "6sOvrnFcQkve"
      },
      "source": [
        "Descripción\n",
        "Antes del año 1971, Gran Bretaña utilizó un sistema de monedas que se remonta a la época de Carlomagno.\n",
        "Las tres principales unidades de la moneda británica fueron el penique, el chelín, y la libra.\n",
        "Se tenían las siguientes equivalencias, existen 12 peniques en un chelín y 20 chelines en una libra. Dado una cantidad de monedas  peniques se quiere convertir esta cantidad en libras, chelines y peniques para esto se\n",
        "procede de la siguiente manera, la primera\n",
        "conversión sera de monedas de peniques a su equivalencia máxima en libras, y luego convertir\n",
        "la mayor cantidad de peniques restantes como sea posible hacia su equivalente en chelines y el restante se mantiene en peniques.\n",
        "Devuelve estos datos en un  vector de enteros con tres elementos que contiene la equivalencia en\n",
        "monedas de libras, monedas de chelines, y el número de monedas de un penique, en ese orden.\n",
        "\n",
        "Entrada\n",
        "La entrada de datos consiste en un entero A que representa la cantidad de monedas\n",
        "disponible en peniques, el número está definido como se indica 0≤A≤10000.\n",
        "\n",
        "En la entrada hay un solo dato. Se muestran multiples datos como ejemplo\n",
        "\n",
        "Salida\n",
        "Escriba para cada caso de prueba tres números, los cuales son el equivalente en libras, chelín y peniques."
      ]
    },
    {
      "cell_type": "code",
      "execution_count": null,
      "metadata": {
        "id": "g-tJbwTgQnxb"
      },
      "outputs": [],
      "source": [
        "p=int(input())\n",
        "print(\"(\"+str(p//240)+\",\",str((p%240)//12)+\",\", str(p%12)+\")\")\n"
      ]
    },
    {
      "cell_type": "markdown",
      "metadata": {
        "id": "H24rNvJWVTzw"
      },
      "source": [
        "La secuencia simple de Collatz (SCS) que comienza en un número entero n, se define mediante la fórmula:\n",
        "S (k) = (k / 2) si k es par, de lo contrario (k + 1))\n",
        "\n",
        "La secuencia es entonces n, S (n), S (S (n)), ... hasta que el valor llega primero a 1.\n",
        "\n",
        "Por ejemplo, a partir de las 11, tenemos:\n",
        "\n",
        "11−>12−>6−>3−>4−>2−>1\n",
        "\n",
        "La secuencia siempre termina en 1. (Dato curioso: la secuencia Collatz que envía k impar a 3 * k + 1. Se desconoce si esa secuencia siempre termina en 1.)\n",
        "\n",
        "Sea A (n) = número de pasos en el SCS comenzando en n. Por ejemplo, A (11) = 6. Escribir un programa que calcule A(n) para una entrada dada n."
      ]
    },
    {
      "cell_type": "code",
      "execution_count": null,
      "metadata": {
        "id": "0Dd62VXyVXtp"
      },
      "outputs": [],
      "source": [
        "y = int(input())\n",
        "for _ in range(y):\n",
        "  x = int(input())\n",
        "  if x > 0:\n",
        "      c=0\n",
        "      while x != 1:\n",
        "          \n",
        "          c+=1\n",
        "          if x % 2==1:  \n",
        "              x = x + 1\n",
        "          else:\n",
        "              x = x// 2\n",
        "      print(c)\n",
        "  else:\n",
        "      break"
      ]
    },
    {
      "cell_type": "markdown",
      "metadata": {
        "id": "ueCMR2hBADnY"
      },
      "source": [
        "Descripción\n",
        "En la clase nos han dado la siguiente lista de sucesiones de números contiguos:\n",
        "\n",
        "1=1\n",
        "2+3+4=1+8\n",
        "5+6+7+8+9=8+27\n",
        "10+11+12+13+14+15+16=27+64\n",
        "Fíjese que el resultado es la suma de los números en la secuencia y la suma anterior siempre figura en el resultado. Lo que se quiere conocer es cual es el siguiente resultado de la suma de consecutivos. En el problema se proporciona el número n y se trata de conocer cual es el resultado de la sucesión, por ejemplo:\n",
        "\n",
        "si n=3 el resultado es 8+27\n",
        "si n=4 el resultado es 27+64\n",
        "como se puede ver en la sucesión."
      ]
    },
    {
      "cell_type": "code",
      "execution_count": null,
      "metadata": {
        "id": "V4vG7KNPAD8b"
      },
      "outputs": [],
      "source": [
        "n = int(input())\n",
        "c=1\n",
        "s=0\n",
        "i=0\n",
        "cc=0\n",
        "for _ in range(n):\n",
        "  for i in range(1,(n*n)+1):\n",
        "    print(i)\n",
        "    s=s+i\n",
        "    if(i==c):\n",
        "      print(\"------------\",s)\n",
        "      cc+=1\n",
        "      c=(cc+1)*(cc+1)\n",
        "      s=0\n",
        "  "
      ]
    },
    {
      "cell_type": "code",
      "execution_count": null,
      "metadata": {
        "id": "SGCjbO7OE5Z9"
      },
      "outputs": [],
      "source": [
        "total=0\n",
        "\n",
        "for i in [2,2,2,2,4] :                               #se suman las variables para for\n",
        "\n",
        "      total=total+i\n",
        "      print(i)\n",
        "print(\"   =\",total)"
      ]
    },
    {
      "cell_type": "code",
      "execution_count": null,
      "metadata": {
        "id": "t0Wsc5mrFsT6"
      },
      "outputs": [],
      "source": [
        "lo_mas_chico=-1\n",
        "\n",
        "for numero in [9,12,3,9,17,23]:\n",
        "  print(numero)\n",
        "  if numero < lo_mas_chico:\n",
        "    lo_mas_chico=numero\n",
        "\n",
        "print(\"       -\",lo_mas_chico)"
      ]
    },
    {
      "cell_type": "markdown",
      "metadata": {
        "id": "Pv-ZEnaUN5ju"
      },
      "source": [
        "escripción\n",
        "Lulu quiere ser mas pesado que todos, o al menos ser mas pesado que Leliz.\n",
        "En este momento, Lulu y Leliz pesan A y B respectivamente. Esta garantizado que el peso de Lulu es menor o igual al peso de Leliz.\n",
        "Lulu come mucho para ser mas pesado que Leliz y su peso se triplica cada año, mientras que de Leliz se duplica cada año.\n",
        "Ayuda a Lulu a saber en cuantos años seria mas pesado que Leliz.\n",
        "Entrada\n",
        "La primera línea contiene un número entero N, 1 ≤ N ≤ 100 que indica el número de casos de prueba.\n",
        "Cada Caso de prueba consiste en dos números enteros A y B, 1 ≤ a ≤ b ≤ 10 el peso de Lulu y el peso de Leliz.\n",
        "Salida\n",
        "Imprimir en cuantos años Lulu se volverá más pesado que Leliz."
      ]
    },
    {
      "cell_type": "code",
      "execution_count": null,
      "metadata": {
        "id": "r8zNR3uVN_8n"
      },
      "outputs": [],
      "source": [
        "n=int(input())\n",
        "for _ in range (n):\n",
        "  c=0\n",
        "  a,b,=map(int,input().split())\n",
        "  while(a<=b):\n",
        "    c+=1\n",
        "    a*=3\n",
        "    b*=2\n",
        "  print(c) \n"
      ]
    },
    {
      "cell_type": "markdown",
      "metadata": {
        "id": "JvNdyETkn32O"
      },
      "source": [
        "Descripción\n",
        "El problema radica en determinar si el producto de los elementos de un conjunto es un número cuadrado. Veamos algunos ejemplos:\n",
        "{40, 10} dado que 40*10=400 que es 20*20  es un número cuadrado.\n",
        "{60,40,20,30} dado que 60*40*30*20 es 1440000 que es 1200*1200 el producto es un número cuadrado.\n",
        "{10,30} dado que es 300 que es 17.32*17.32 porque 17.32 no es un número entero se dice que no es un número cuadrado.\n",
        "Dado un conjunto de números se te pide indicar si el producto de sus números es un números cuadrado.\n",
        "\n",
        "Entrada\n",
        "La entrada consiste de múltiples casos. La primera linea contiene el numero de casos de prueba.\n",
        "Cada caso de prueba consiste de dos líneas, la primera que indica el numero n de elementos del conjunto (1≤n≤100). la siguiente linea contiene un conjunto n números (2≤xi≤105) separados por un espacio.\n",
        "Salida\n",
        "Imprima en una linea si el producto de sus elementos es un numero cuadrado, tal como se muestra en el ejemplo"
      ]
    },
    {
      "cell_type": "code",
      "execution_count": null,
      "metadata": {
        "id": "fvuQjJPFn6A_"
      },
      "outputs": [],
      "source": [
        "import math\n",
        "x = int(input())\n",
        "for _ in range(x):\n",
        "  n = int(input())\n",
        "  cont = 0\n",
        "  for i in range(1, n+1):\n",
        "    if n % i == 0:   \n",
        "      cont += 1\n",
        "  if cont == 2:\n",
        "    pd, pe = math.modf()\n",
        "    #print(str(n)+\":\",\"{:.40f}\".format(1/n))\n",
        "    print(pd)\n",
        "  else:\n",
        "    print(str(n)+\":\",\"-1\")\n"
      ]
    },
    {
      "cell_type": "markdown",
      "metadata": {
        "id": "wdBkET6kpWK0"
      },
      "source": [
        "saber si es primo"
      ]
    },
    {
      "cell_type": "code",
      "execution_count": null,
      "metadata": {
        "id": "Zj7_3l6zNsTL"
      },
      "outputs": [],
      "source": [
        "n = int(input())\n",
        "cont = 0\n",
        "for i in range(1, n+1):\n",
        "  if n % i == 0:\n",
        "    \n",
        "    cont += 1\n",
        "\n",
        "if cont == 2:\n",
        "  print(\"primo\")\n",
        "else:\n",
        "  print(\"no primo\")"
      ]
    },
    {
      "cell_type": "markdown",
      "metadata": {
        "id": "-1BvOiIYVZhQ"
      },
      "source": [
        "Escribir un programa que lea un número entero que representa una temperatura dada en grados Centígrados, y que le informe si el clima es cálido, si hace frío, o si está bien. \n",
        "Suponemos que hace calor si la temperatura es superior a 30 grados, que es frío si la temperatura es inferior a 10 grados, y que está bien lo contrario. Por otra parte, \n",
        "Adicionalmente imprima una linea que diga, que el agua a esa temperatura hierve, o se congela. Se supone que el agua hierve a los 100 grados y se congela a los 0 grados.\n"
      ]
    },
    {
      "cell_type": "code",
      "execution_count": null,
      "metadata": {
        "id": "8u_Ylg3KVe2Z"
      },
      "outputs": [],
      "source": [
        "temp=int(input())\n",
        "if(temp>30):\n",
        "  print(\"hace calor\")\n",
        "if(temp<10):\n",
        "  print(\"hace frio\")\n",
        "if(temp>=10 and temp <=30):\n",
        "  print(\"esta bien\")\n",
        "if(temp>=100):\n",
        "  print(\"hierve\")\n",
        "if(temp<=0):\n",
        "  print(\"se congela\")"
      ]
    },
    {
      "cell_type": "markdown",
      "metadata": {
        "id": "AZcnVq9xoOXR"
      },
      "source": [
        "##Descripción\n",
        "Se tiene una lista de números y te piden hallar la suma de los mismos. Se sabe que la suma no excede un numero entero.\n",
        "##Entrada\n",
        "La entrada consiste de múltiples casos de prueba. La entrada termina cuando no hay más casos, es decir fin de archivo.\n",
        "Cada caso de prueba consiste de una secuencia que viene en una línea con números separados por un espacio. Todas las secuencias terminan con un numero cero.\n",
        "##Salida\n",
        "Por cada caso de prueba escrita en una linea la suma de los números."
      ]
    },
    {
      "cell_type": "code",
      "execution_count": null,
      "metadata": {
        "id": "ODmQ1PEKojBf"
      },
      "outputs": [],
      "source": [
        "n=1\n",
        "x=0\n",
        "while True:\n",
        " try:\n",
        "      while(n!=0):\n",
        "        n=map(int,input().split())\n",
        "        x=x+n\n",
        "      print (x)\n",
        " except EOFError:\n",
        "      break"
      ]
    },
    {
      "cell_type": "markdown",
      "metadata": {
        "id": "7Vp6MqA8tTDr"
      },
      "source": [
        "#Descripción\n",
        "Cuando Lord Voldemort supo que Harry Potter se encontraba en Hogwarts con el propósito de localizar y destruir uno de sus últimos Horrocruxes, ordenó a todos los mortífagos y a las criaturas que habían prometido lealtad a él atacar la escuela. El Ejército de Dumbledore comunicó a la Orden del Fénix y sus otros aliados para ayudar a combatir a Harry Potter, logrando una gran batalla.\n",
        "\n",
        "Ahora Harry Potter necesita tu ayuda, para saber quienes son Mortífagos(Los mortífagos son los seguidores incondicionales de Lord Voldemord), para asi no dañar a los que son de Hogwarts.\n",
        "\n",
        "Cada Mortifago esta representado por  (Numero ASCCI de un cararter) % 5 = 0  o (Numero ASCCI del cararter ) % 7 = 0.}. \n",
        "\n",
        "Cuando Harry verifique si el caracter es un Mortifago pasara lo siguiente: si es un Mortifago lanzara el siguiente hechizo Desmaius. El hechizo Desmaius hará lo siguiente: Convertira el Caracter Mortifago en su Numero Ascci, y si no es Mortifago no pasara nada.\n",
        "\n",
        "#Ejemplo:\n",
        "\n",
        "Si se te da la siguiente cadena \"Asustado Potter!!\" se aplicara a cada caracter que es un Mortifago el hechizo Desmaius, quedando de la siguiente forma la cadena \"65115u115ta100o 80otter!!\"\n",
        "\n",
        "#Entrada\n",
        "La entrada consiste de múltiples casos de prueba. La primera línea contiene el número de casos de prueba.\n",
        "\n",
        "Cada Caso de prueba contiene una cadena S no mas de 1000 caracteres .\n",
        "\n",
        "#Salida\n",
        "Por cada caso de prueba imprima en una línea, La cadena despues de que se lanzo el hechizo Desmaius a todos los caracteres que era Mortifagos.\n",
        "\n",
        "Ejemplo Ent"
      ]
    },
    {
      "cell_type": "code",
      "execution_count": null,
      "metadata": {
        "id": "uw3Gd-4stfXe"
      },
      "outputs": [],
      "source": [
        "a=str(input())\n",
        "def split(a):\n",
        "    return [char for char in a]\n",
        "b=split(a)\n",
        "for i in range (len(a)):\n",
        "  txt=str(a[i])\n",
        "  if(int(ord(txt))%5==0 or int(ord(txt))%7==0):\n",
        "    b[i] = ord(txt)  \n",
        "print(*b,sep=\"\")"
      ]
    },
    {
      "cell_type": "markdown",
      "metadata": {
        "id": "SUc5zFkSnDEr"
      },
      "source": [
        "#Descripción\n",
        "Comenzando con un entero entre 00 y 99 inclusive, escritos como dos dígitos (use un cero a la izquierda en caso de que el número sea menor que 10). Realice los siguiente:\n",
        "Sume los dos dígitos.\n",
        "Ahora concéntrese en el dígito de la derecha, en el número original y en el de la suma.\n",
        "Finalmente combine estos números.\n",
        "Si repetimos este proceso varias veces obtenemos el número original..\n",
        "\n",
        "Por ejemplo\n",
        "\n",
        "Inicio  Sume los dos dígitos   Combine los dos dígitos\n",
        "------------------------------------------------------\n",
        " 26 :     2+6 = 08 :            \"6\" y \"8\" = 68\n",
        " 68 :     6+8 = 14 :            \"8\" y \"4\" = 84\n",
        " 84 :     8+4 = 12 :            \"4\" y \"2\" = 42\n",
        " 42 :     4+2 = 06 :            \"2\" y \"6\" = 26\n",
        "\n",
        "En este caso tomo 4 pasos para obtener el número original.. Se pide que devuelva el número de pasos requeridos para obtener el número original.\n",
        "\n",
        "#Entrada\n",
        "En la entrada hay varios casos de prueba. Cada caso de prueba viene en una linea que contiene un número 0≤N≤99.La entrada termina cuando no hay más datos\n",
        "\n",
        "#Salida\n",
        "Por cada caso de prueba escriba en una línea el número de pasos requeridos para obtener el número original.\n",
        "\n"
      ]
    },
    {
      "cell_type": "code",
      "execution_count": null,
      "metadata": {
        "id": "5BYNFCwbnUEQ"
      },
      "outputs": [],
      "source": [
        "  b=0\n",
        "  num=0\n",
        "  c=0\n",
        "while True:\n",
        " try:\n",
        "    a=int(input())\n",
        "    while(a!=b):\n",
        "      c=c+1\n",
        "      a=b\n",
        "      x=a//10\n",
        "      y=a%10\n",
        "      print(x+y)\n",
        "      y1=(x+y)%10\n",
        "      print(num)\n",
        "      b=int(num)\n",
        "    print(num)\n",
        " except EOFError:\n",
        "      break\n"
      ]
    },
    {
      "cell_type": "markdown",
      "metadata": {
        "id": "OtbGjtihyoKY"
      },
      "source": [
        "#Entrada\n",
        "La primera línea señala los n casos de prueba, cada caso de prueba es numero x comprendido entre 4<=x<=1000000.\n",
        "\n",
        "#Salida\n",
        "La salida es la suma de los dos primos más próximos a la izquierda y derecha."
      ]
    },
    {
      "cell_type": "code",
      "execution_count": null,
      "metadata": {
        "id": "Gf4cvkdryudI"
      },
      "outputs": [],
      "source": [
        "def primo(i):\n",
        "  cont = 0\n",
        "  for i in range(1, n+1):\n",
        "    if n % i == 0:\n",
        "      cont += 1\n",
        "  if cont == 2:\n",
        "    #print(\"primo\")\n",
        "    return x\n",
        "  else:\n",
        "    #print(\"no primo\")  \n",
        "    return \n",
        "n=int(input())\n",
        "for _ in range(n):\n",
        "  x=int(input())\n",
        "  for i in range(1,x): #izq primo\n",
        "    cont = 0\n",
        "  for i in range(1, n+1):\n",
        "    if n % i == 0:\n",
        "      cont += 1\n",
        "  if cont == 2:\n",
        "    #print(\"primo\")\n",
        "    return x\n",
        "  else:\n",
        "    #print(\"no primo\") "
      ]
    },
    {
      "cell_type": "markdown",
      "metadata": {
        "id": "uLy9B5EN4yrR"
      },
      "source": [
        "#Descripción\n",
        "Definimos los números primos circulares aquellos que luego de rotar un numero siguen siendo primos. Por ejemplo\n",
        "las rotaciones del numero primo 17 son: 17 y 71 ambos son primos asi decimos que el 17 es un numero primo circular. El numero 101 tiene tres rotaciones, si rotamos una vez tenemos 110 , la segunda rotación es 011, como vemos 110 no es primo por lo que el 101 no es un primo circular.\n",
        "\n",
        "#Entrada\n",
        "La entrada es una lista de numeros cada uno en una linea y termina con un \"-1\". Todos los números son menores a 10,000.\n",
        "\n",
        "#Salida\n",
        "Para cada número en la entrada en la salida escriba SI si el numero es circular y NO en otro caso."
      ]
    },
    {
      "cell_type": "code",
      "execution_count": null,
      "metadata": {
        "id": "Dxetk-_J42PG"
      },
      "outputs": [],
      "source": [
        "n=int(input())\n",
        "while(n!=-1):\n",
        "  \n",
        "  cont = 0\n",
        "  for i in range(1, n+1):\n",
        "    if n % i == 0:\n",
        "      cont += 1\n",
        "  if cont == 2:\n",
        "    #print(\"primo\")\n",
        "    \n",
        "    numero = 0\n",
        "    while (n != 0):\n",
        "      numero = 10*numero+n % 10\n",
        "      n //= 10\n",
        "      #print(numero)\n",
        "      \n",
        "    conta = 0\n",
        "    for J in range(1, numero+1):\n",
        "      if numero % J == 0:\n",
        "        conta += 1\n",
        "    if conta == 2:\n",
        "      print(\"SI\")\n",
        "    else:\n",
        "      print(\"NO\")\n",
        "\n",
        "  else:\n",
        "    #print(\"no primo\")\n",
        "    print(\"NO\")\n",
        "  n=int(input())"
      ]
    },
    {
      "cell_type": "markdown",
      "metadata": {
        "id": "JuneqKcf9Kk_"
      },
      "source": [
        "invertir numero"
      ]
    },
    {
      "cell_type": "code",
      "execution_count": null,
      "metadata": {
        "id": "87ut3gU86BUG"
      },
      "outputs": [],
      "source": [
        "n=int(input())\n",
        "numero = 0\n",
        "while (n != 0):\n",
        "  numero = 10*numero+n % 10\n",
        "  n //= 10\n",
        "print(numero)"
      ]
    },
    {
      "cell_type": "markdown",
      "metadata": {
        "id": "C9Mx9AYbFLJm"
      },
      "source": [
        "#Descripción\n",
        "El epicentro de un número n es el dígito que está en el medio del número.\n",
        "\n",
        "Por ejemplo el epicentro de 89012 es 0 porque es el dígito que está en la mitad del número.\n",
        "\n",
        "Algunos números no tienen epicentro es el caso de los números con cantidad de dígitos par.\n",
        "\n",
        "Por ejemplo el número 2244 no tiene epicentro porque su cantidad de dígitos es 4.\n",
        "\n",
        "Dado un número, se quiere encontrar cuál es su epicentro.\n",
        "\n",
        "###Entrada\n",
        "El programa aceptará un número n por teclado (1<=n<=99999).\n",
        "\n",
        "###Salida\n",
        "Según sea la entrada se pide imprimir el dígito epicentro en una línea, si el epicentro no existiera se deberá imprimir \"*\" sin comillas."
      ]
    },
    {
      "cell_type": "code",
      "execution_count": null,
      "metadata": {
        "id": "gbYPBY7-FUPG"
      },
      "outputs": [],
      "source": [
        "a=str(input())\n",
        "def split(a):\n",
        "    return [char for char in a]\n",
        "b=split(a)\n",
        "#print (b,len(b))\n",
        "if len(b)%2==1:\n",
        "  print(b[(len(b)//2)])\n",
        "else:\n",
        "  print(\"*\")"
      ]
    },
    {
      "cell_type": "markdown",
      "metadata": {
        "id": "JgO2pnd6WbO0"
      },
      "source": [
        "Problem H: SUMA3"
      ]
    },
    {
      "cell_type": "code",
      "execution_count": null,
      "metadata": {
        "id": "yk-I4emkWdQu"
      },
      "outputs": [],
      "source": [
        "n=int(input())\n",
        "c=0\n",
        "for i in range(n):\n",
        "  if (i%3==0):\n",
        "    c+=i\n",
        "print(c)\n"
      ]
    },
    {
      "cell_type": "markdown",
      "metadata": {
        "id": "jB-H1E5KXfip"
      },
      "source": [
        ": Invertir palabras 1"
      ]
    },
    {
      "cell_type": "code",
      "execution_count": null,
      "metadata": {
        "id": "EzJPm-A8Xqfg"
      },
      "outputs": [],
      "source": [
        "for _ in range(int(input())):\n",
        "  a=str(input())\n",
        "  con=0\n",
        "  def split(a):\n",
        "      return [char for char in a]\n",
        "  b=split(a)\n",
        "  #print(len(b))\n",
        "  c=[0]*len(b)\n",
        "  for i in range(len(b)-1,-1,-1):\n",
        "    #print(b[i])\n",
        "    c[con]=b[i]\n",
        "    con=con+1\n",
        "  print(*c,sep=\"\")\n"
      ]
    },
    {
      "cell_type": "markdown",
      "metadata": {
        "id": "-O6p_g-wrcs2"
      },
      "source": [
        "Digitos Primos"
      ]
    },
    {
      "cell_type": "code",
      "execution_count": null,
      "metadata": {
        "id": "x5VToKyOrf9E"
      },
      "outputs": [],
      "source": [
        "def primo(x):\n",
        "  cont = 0\n",
        "  for i in range(1, x+1):\n",
        "    if x % i == 0:   \n",
        "      cont += 1\n",
        "  if cont == 2:\n",
        "    return 1\n",
        "  else:\n",
        "    return 0\n",
        "def split(a):\n",
        "  return [char for char in a]\n",
        "\n",
        "\n",
        "for _ in range(int(input())):\n",
        "  cc=0\n",
        "  c=[]\n",
        "  a=str(input())\n",
        "  b=split(a)\n",
        "  #print(b)\n",
        "  for i in range(len(b)):\n",
        "    \n",
        "    if primo(int(b[i]))==1:\n",
        "      \n",
        "      c.append(b[i])\n",
        "      cc=cc+1\n",
        "  #print(cc)\n",
        "  if cc==0:\n",
        "    print(\"-1\")\n",
        "  else:\n",
        "    print(*c,sep=\"\")"
      ]
    },
    {
      "cell_type": "markdown",
      "metadata": {
        "id": "FaYZglrUyeMC"
      },
      "source": [
        "Bowling"
      ]
    },
    {
      "cell_type": "code",
      "execution_count": null,
      "metadata": {
        "id": "-JXisdAtymCO"
      },
      "outputs": [],
      "source": [
        "a,b=map(int,input().split())\n",
        "c=((a*(a+1))//2)\n",
        "a=a+1\n",
        "b=a-b\n",
        "d=((b)*((b)+1))//2\n",
        "print(c-d)"
      ]
    },
    {
      "cell_type": "markdown",
      "metadata": {
        "id": "t1qoXhOuDFmc"
      },
      "source": [
        "Divisibilidad"
      ]
    },
    {
      "cell_type": "code",
      "execution_count": null,
      "metadata": {
        "id": "bZiugNy_DJCz"
      },
      "outputs": [],
      "source": [
        " a,b=map(int,input().split())\n",
        " while(a!='' and b!=''):\n",
        "   a,b=int(a),int(b)\n",
        "   if (a>=b and a%b==0):\n",
        "     print(a,\"es divisible por\",b)\n",
        "   elif(b>a and b%a==0):\n",
        "     print(b,\"es divisible por\",a)\n",
        "   else:\n",
        "     print(\"-1\")\n",
        "   a,b=map(str,input().split())\n",
        "break\n",
        "     "
      ]
    },
    {
      "cell_type": "markdown",
      "metadata": {
        "id": "Qp6q8DaIG7wZ"
      },
      "source": [
        "Números armonicos"
      ]
    },
    {
      "cell_type": "code",
      "execution_count": null,
      "metadata": {
        "id": "B4lcV-X8G-gr"
      },
      "outputs": [],
      "source": [
        "h=0\n",
        "for i in range(1,int(input())+1):\n",
        "  h=h+(1/i)\n",
        "print(\"{:.4f}\".format(h)) "
      ]
    },
    {
      "cell_type": "markdown",
      "metadata": {
        "id": "Ty4MpepxIRfN"
      },
      "source": [
        " Maximo Comun Divisor"
      ]
    },
    {
      "cell_type": "code",
      "execution_count": null,
      "metadata": {
        "id": "Kjffpk-rIUSn"
      },
      "outputs": [],
      "source": [
        "for _ in range(int(input())):\n",
        "  a,b=map(int,input().split())\n",
        "  for i in range((max(a,b)),0,-1):\n",
        "    if (a%i==0 and b%i==0):\n",
        "      print(i)\n",
        "      break\n",
        "    "
      ]
    },
    {
      "cell_type": "markdown",
      "metadata": {
        "id": "9u2P4ehDKeQp"
      },
      "source": [
        "Numero PI"
      ]
    },
    {
      "cell_type": "code",
      "execution_count": null,
      "metadata": {
        "id": "73e9_rW2KgL4"
      },
      "outputs": [],
      "source": [
        "import math\n",
        "n=int(input())\n",
        "n=str(\"{:.\"+str(n)+\"f}\")\n",
        "print(n.format(math.pi)) "
      ]
    },
    {
      "cell_type": "markdown",
      "metadata": {
        "id": "uj7PHPqNM37A"
      },
      "source": [
        "Intervalos"
      ]
    },
    {
      "cell_type": "code",
      "execution_count": null,
      "metadata": {
        "id": "nf44eI4SM6FW"
      },
      "outputs": [],
      "source": [
        "a,b,x,y=map(int,input().split())\n",
        "if(b>=x and a<=y):\n",
        "  print(\"[\"+str(max(a,x))+\",\"+str(min(b,y))+\"]\")\n",
        "else:\n",
        "  print(\"[]\")"
      ]
    },
    {
      "cell_type": "markdown",
      "metadata": {
        "id": "wnMVYiS1PDe6"
      },
      "source": [
        "Cadena Bailarina"
      ]
    },
    {
      "cell_type": "code",
      "execution_count": null,
      "metadata": {
        "id": "iAUidNHVPF1D"
      },
      "outputs": [],
      "source": [
        "for _ in range(int(input())):\n",
        "  a=str(input())\n",
        "  def split(a):\n",
        "      return [char for char in a]\n",
        "  b=split(a)\n",
        "  s=0\n",
        "  for i in range(len(b)):\n",
        "    if(b[i]!=' '):\n",
        "      if(s%2==0):\n",
        "        b[i]=b[i].upper()\n",
        "        s+=1\n",
        "      else:\n",
        "        s-=1\n",
        "  print(*b,sep=\"\")         #convierte de min a MAY "
      ]
    },
    {
      "cell_type": "markdown",
      "metadata": {
        "id": "2npvBc_mECpF"
      },
      "source": [
        "Contar letras"
      ]
    },
    {
      "cell_type": "code",
      "execution_count": null,
      "metadata": {
        "id": "ehSEQmC1EFBG"
      },
      "outputs": [],
      "source": [
        "l=str(input())\n",
        "a=str(input())\n",
        "c=0\n",
        "def split(a):\n",
        "  return [char for char in a]\n",
        "b=split(a)\n",
        "for i in range(len(b)):\n",
        "  if (b[i]==l):\n",
        "    c+=1\n",
        "print(c)\n"
      ]
    },
    {
      "cell_type": "markdown",
      "metadata": {
        "id": "kAE4kXukKpJc"
      },
      "source": [
        "Chewbacca"
      ]
    },
    {
      "cell_type": "code",
      "execution_count": null,
      "metadata": {
        "id": "dH4n1nsmKu7k"
      },
      "outputs": [],
      "source": [
        "a=str(input())\n",
        "c=0\n",
        "def split(a):#                           separar cadenas letra por letra\n",
        "  return [char for char in a]\n",
        "b=split(a)\n",
        "for i in range(len(b)):\n",
        "  if(b[i]=='a' or b[i]=='r' or b[i]==' '):\n",
        "    c+=1\n",
        "\n",
        "if(c==len(b)):\n",
        "  print(\"Chewbacca\")\n",
        "else:\n",
        "  print(\"Han Solo\")"
      ]
    },
    {
      "cell_type": "markdown",
      "metadata": {
        "id": "2CpqEeKBP82l"
      },
      "source": [
        "#MODULARIDAD\n",
        "\n"
      ]
    },
    {
      "cell_type": "code",
      "execution_count": null,
      "metadata": {
        "id": "mvOUS4PrQAAH"
      },
      "outputs": [],
      "source": [
        "def facto(z):\n",
        "  f=1\n",
        "  for i in range(1,z+1):\n",
        "    f=f*i\n",
        "  return(f)\n",
        "\n",
        "def udig(n):\n",
        "  vd=n%10\n",
        "  return(vd)\n",
        "  \n",
        "n=int(input())\n",
        "if n%2==0:\n",
        "  r=facto(n)\n",
        "  print(r)\n",
        "else:\n",
        "  x=udig(n)\n",
        "  print(x)\n"
      ]
    },
    {
      "cell_type": "code",
      "execution_count": null,
      "metadata": {
        "id": "q8LMW1UIWt3a"
      },
      "outputs": [],
      "source": [
        "def fibo(x):\n",
        "  a=0\n",
        "  b=1\n",
        "  for _ in range(x):  \n",
        "    print(a)\n",
        "    c=a+b\n",
        "    a=b\n",
        "    b=c\n",
        "  return 0\n",
        "def nat(y):\n",
        "  for i in range(y):\n",
        "    print (i)\n",
        "  return 0\n",
        "n=int(input())\n",
        "if n%2==0:\n",
        "  fibo(n)\n",
        "else:\n",
        "  nat(n)\n",
        "\n",
        "\n",
        "    \n",
        "\n"
      ]
    },
    {
      "cell_type": "markdown",
      "metadata": {
        "id": "cjl1EVphiNTK"
      },
      "source": [
        "#CREAR MATRIZ"
      ]
    },
    {
      "cell_type": "code",
      "execution_count": null,
      "metadata": {
        "id": "BtaelrgTiSS7"
      },
      "outputs": [],
      "source": [
        "def crearMatriz(n,m):\n",
        "    matriz=[]\n",
        "    for i in range(n):\n",
        "        matriz.append([0]*m)\n",
        "    return matriz\n",
        "def mostrarsinespacioF(matriz):\n",
        "    for i in matriz:\n",
        "        print(*i)\n",
        "def mostrarconespacioF(matriz):\n",
        "    for i in matriz:\n",
        "        print(*i,\"\")\n",
        "\n",
        "a,b=map(int,input().split())\n",
        "matriz=crearMatriz(a,b)\n",
        "print(mostrarconespacioF(matriz))\n",
        "  "
      ]
    },
    {
      "cell_type": "markdown",
      "metadata": {
        "id": "h84ghrWVCFlh"
      },
      "source": [
        "matriz k1"
      ]
    },
    {
      "cell_type": "code",
      "execution_count": null,
      "metadata": {
        "id": "ChqraopZCm-L"
      },
      "outputs": [],
      "source": [
        "def crearMatriz(n,m):\n",
        "    matriz=[]\n",
        "    for i in range(n):\n",
        "        matriz.append([0]*m)\n",
        "    return matriz\n",
        "def mostrarsinespacioF(matriz):\n",
        "    for i in matriz:\n",
        "        print(*i)\n",
        "def mostrarconespacioF(matriz):\n",
        "    for i in matriz:\n",
        "        print(*i,\"\")\n",
        "\n",
        "a,b=map(int,input().split())\n",
        "matriz=crearMatriz(a,b)\n",
        "sw=0\n",
        "fila=0\n",
        "columna=0\n",
        "sw1=0\n",
        "cont=0\n",
        "c=1\n",
        "sw2=0\n",
        "s=16\n",
        "for i in range(a*b):\n",
        "    if sw==0:\n",
        "        if sw1==0:\n",
        "            matriz[fila][columna]=0\n",
        "            columna=columna+1\n",
        "            cont=cont+1\n",
        "            if cont==c:\n",
        "                sw1=1\n",
        "                c=c+1\n",
        "                cont=0\n",
        "        else:\n",
        "            matriz[fila][columna]=1\n",
        "            columna=columna+1\n",
        "            sw1=0\n",
        "        if columna==b:\n",
        "            fila=fila+1\n",
        "            columna=0\n",
        "            sw=1\n",
        "    else:\n",
        "        if sw2==0:\n",
        "            matriz[fila][columna]=1\n",
        "            columna=columna+1\n",
        "            sw2=1\n",
        "        elif sw2==1:\n",
        "            matriz[fila][columna]=2\n",
        "            columna=columna+1\n",
        "            sw2=2\n",
        "        elif sw2==2:\n",
        "            matriz[fila][columna]=4\n",
        "            columna=columna+1\n",
        "            sw2=3\n",
        "        else:\n",
        "            matriz[fila][columna]=s\n",
        "            s=s+s\n",
        "            columna=columna+1\n",
        "        if columna==b:\n",
        "            fila=fila+1\n",
        "            columna=0\n",
        "            sw=0\n",
        "mostrarsinespacioF(matriz)\n"
      ]
    },
    {
      "cell_type": "markdown",
      "metadata": {
        "id": "78qIQHC1HNMa"
      },
      "source": [
        "# otra suma"
      ]
    },
    {
      "cell_type": "code",
      "execution_count": null,
      "metadata": {
        "id": "_n1FZdbsHOUf"
      },
      "outputs": [],
      "source": [
        "def sumardig(n):\n",
        "    s=0\n",
        "    while(n!=0):\n",
        "        r=n%10\n",
        "        n=n//10\n",
        "        s=s+r\n",
        "    return s\n",
        "while 1:\n",
        "    try:\n",
        "        a,b,c=map(int,input().split())\n",
        "        s=0\n",
        "        for i in range(1,a+1):\n",
        "            p=sumardig(i)\n",
        "            if(p>=b and p<=c):\n",
        "                s=s+i\n",
        "        print(s)\n",
        "    except EOFError:\n",
        "        break"
      ]
    },
    {
      "cell_type": "markdown",
      "metadata": {
        "id": "KCsW0c_CLB0e"
      },
      "source": [
        "escoger equipos"
      ]
    },
    {
      "cell_type": "code",
      "execution_count": null,
      "metadata": {
        "id": "iULgIiLqLHxR"
      },
      "outputs": [],
      "source": [
        "while 1:\n",
        "    try:\n",
        "        n=[int(i) for i in input().split()]\n",
        "        n.sort()\n",
        "        n=n[::-1]\n",
        "        capitan1=0\n",
        "        capitan2=0\n",
        "        for i in range(len(n)):\n",
        "            if(i%2==0):\n",
        "                capitan1=capitan1+n[i]\n",
        "            else:\n",
        "                capitan2=capitan2+n[i]\n",
        "        print(capitan1-capitan2)\n",
        "    except EOFError:\n",
        "        break"
      ]
    },
    {
      "cell_type": "markdown",
      "metadata": {
        "id": "JdBGkojmVX0a"
      },
      "source": [
        "vector ordenar"
      ]
    },
    {
      "cell_type": "code",
      "execution_count": null,
      "metadata": {
        "id": "AY6JOMtrVZ7V"
      },
      "outputs": [],
      "source": [
        "def straint(vec):\n",
        "  b=vec.split()\n",
        "  for i in range(len(b)):\n",
        "    b[i]=int(b[i])\n",
        "  return b\n",
        "def bubblesort(vec,n):\n",
        "    for i in range(n):\n",
        "        for j in range(i+1,n):\n",
        "            if vec[i]>vec[j]:\n",
        "                p=vec[i]\n",
        "                vec[i]=vec[j]\n",
        "                vec[j]=p\n",
        "    return vec\n",
        "for _ in range(int(input())):\n",
        "  x=int(input())\n",
        "  a=str(input())\n",
        "  vec=straint(a)\n",
        "  print(*bubblesort(vec,x),sep=\" \")"
      ]
    },
    {
      "cell_type": "markdown",
      "metadata": {
        "id": "e0HIvlwWXFp6"
      },
      "source": [
        "intercambio de trenes"
      ]
    },
    {
      "cell_type": "code",
      "execution_count": null,
      "metadata": {
        "id": "76qtSRZaXITO"
      },
      "outputs": [],
      "source": [
        "def bubblesort(vec,n):#                                    ordenar listas \n",
        "    c=0\n",
        "    for i in range(n):\n",
        "        for j in range(i+1,n):\n",
        "            if vec[i]>vec[j]:\n",
        "                aux=vec[i]\n",
        "                vec[i]=vec[j]\n",
        "                vec[j]=aux\n",
        "                c=c+1\n",
        "    return c     \n",
        "for _ in range(int(input())):\n",
        "    n=int(input())\n",
        "    lista=[int(i) for i in input().split()]\n",
        "    print(bubblesort(lista,n))"
      ]
    },
    {
      "cell_type": "markdown",
      "metadata": {
        "id": "sS1BvhIl1xtc"
      },
      "source": [
        "Igualar el array"
      ]
    },
    {
      "cell_type": "code",
      "execution_count": null,
      "metadata": {
        "id": "SuNCvHyZ11fS"
      },
      "outputs": [],
      "source": [
        "def straint(vec):\n",
        "  b=vec.split()\n",
        "  for i in range(len(b)):\n",
        "    b[i]=int(b[i])\n",
        "  return b\n",
        "n=int(input())\n",
        "a=str(input())\n",
        "cc=0 \n",
        "a=straint(a)\n",
        "lis=[]\n",
        "for i in range(max(a)+1):\n",
        "  c=0\n",
        "  for j in range((len(a))):\n",
        "    if a[j]==i:\n",
        "      c+=1\n",
        "  lis.append(c)\n",
        "\n",
        "x=lis.index(max(lis)) \n",
        "lisa=[x]*max(lis)\n",
        "print(len(a)-len(lisa))"
      ]
    },
    {
      "cell_type": "markdown",
      "metadata": {
        "id": "a_Reh0MQWiGn"
      },
      "source": [
        "Digitos Primos"
      ]
    },
    {
      "cell_type": "code",
      "execution_count": null,
      "metadata": {
        "id": "GpXYzG7qWjrn"
      },
      "outputs": [],
      "source": [
        "def primo(n):\n",
        "  \n",
        "  cont = 0\n",
        "  for i in range(1, n+1):\n",
        "    if n % i == 0:\n",
        "      \n",
        "      cont += 1\n",
        "\n",
        "  if cont == 2:\n",
        "    return 1\n",
        "  else:\n",
        "    return 0\n",
        "def straint(vec):\n",
        "  \n",
        "  for i in range(len(vec)):\n",
        "    vec[i]=int(vec[i])\n",
        "  return vec\n",
        "def ch(a):#                           separar cadenas letra por letra\n",
        "  return [char for char in a]\n",
        "\n",
        "for _ in range(int(input())):\n",
        "  lis=[]\n",
        "  c=0\n",
        "  v=str(input())\n",
        "  b=straint(ch(v))\n",
        "  for i in range(len(b)):\n",
        "    if primo(b[i]):\n",
        "      lis.append(b[i])\n",
        "      c+=1\n",
        "  if c !=0:\n",
        "    print(*lis,sep=\"\")\n",
        "  else:\n",
        "    print(\"-1\")\n",
        "\n"
      ]
    },
    {
      "cell_type": "markdown",
      "metadata": {
        "id": "sURNtqOhbl47"
      },
      "source": [
        "Array Palindrome?"
      ]
    },
    {
      "cell_type": "code",
      "execution_count": null,
      "metadata": {
        "id": "-U43AQlFbntD"
      },
      "outputs": [],
      "source": [
        "#def reverse(v): #        invertir lista\n",
        " # vc=[]\n",
        "  #for i in range(len(v)-1,-1,-1):\n",
        "   # vc.append(v[i])\n",
        "  #return vc\n",
        "def straint(vec):\n",
        "  b=vec.split()\n",
        "  for i in range(len(b)):\n",
        "    b[i]=int(b[i])\n",
        "  return b\n",
        "input()\n",
        "n=str(input())\n",
        "c=0\n",
        "\n",
        "n=straint(n)\n",
        "#m=reverse(n)\n",
        "#print(n,m)\n",
        "cc=len(n)\n",
        "for j in range(len(n)):\n",
        "  cc-=1\n",
        "\n",
        "  if n[j]!=n[cc]:\n",
        "    c+=1\n",
        "\n",
        "if c>0:\n",
        "  print(\"NO\")\n",
        "else:\n",
        "  print(\"SI\")"
      ]
    },
    {
      "cell_type": "markdown",
      "metadata": {
        "id": "7gneI5EkVFeT"
      },
      "source": [
        "Muros en AOE2"
      ]
    },
    {
      "cell_type": "code",
      "execution_count": null,
      "metadata": {
        "id": "57ZcBe2VVIRY"
      },
      "outputs": [],
      "source": [
        "def verifi(x,y,n):\n",
        "\n",
        "  exs=[]\n",
        "  if x<1:\n",
        "    exs.append('*')\n",
        "  else:\n",
        "    exs.append(x)\n",
        "  if y > n:\n",
        "    exs.append('*')\n",
        "  else:\n",
        "    exs.append(y)\n",
        "  #print(\"~~~~\",x,y,n,exs)\n",
        "  return exs\n",
        "def extrem(v,a,b):\n",
        "  ex=[]\n",
        "  for k in range(len(v)):\n",
        "    if v[k]==0:\n",
        "      ex.append(k)\n",
        "\n",
        "  #print(\"=========\")\n",
        "  return ex\n",
        "\n",
        "def report(v,a,b):\n",
        "  \n",
        "  for j in range (a,b+1):\n",
        "    v[j]=0\n",
        "\n",
        "  return(v)\n",
        "\n",
        "def matriz(n):\n",
        "  v=[-1]\n",
        "  for i in range(1,n+2):\n",
        "    v.append(i)\n",
        "  return v\n",
        "n,r=map(int,input().split())\n",
        "v=matriz(n)\n",
        "for _ in range(r):\n",
        "  a,b=map(int,input().split())\n",
        "\n",
        "  v=report(v,a,b)\n",
        "  ex=extrem(v,a,b)\n",
        "  ex1=verifi(min(ex)-1,max(ex)+1,n)\n",
        "  #print(v,ex,ex1)\n",
        "  print(*ex1,sep=\" \")\n",
        "w=str(input())\n",
        "print(\"-\")"
      ]
    },
    {
      "cell_type": "markdown",
      "metadata": {
        "id": "Z3THRrd176UX"
      },
      "source": [
        "# Olimpiadas, Fornite y Pizza"
      ]
    },
    {
      "cell_type": "code",
      "execution_count": null,
      "metadata": {
        "id": "7YHhVPfg7-qH"
      },
      "outputs": [],
      "source": [
        "while True:\n",
        "     try:\n",
        "          n=int(input())\n",
        "          n+=1\n",
        "          if(n==1):\n",
        "            print(n-1)\n",
        "          elif n%2==0:\n",
        "            print(n//2)\n",
        "          else:\n",
        "            print(n)\n",
        "     except EOFError:\n",
        "          break\n"
      ]
    },
    {
      "cell_type": "markdown",
      "metadata": {
        "id": "wJre2rV-94cV"
      },
      "source": [
        "Primos en un rango"
      ]
    },
    {
      "cell_type": "code",
      "execution_count": null,
      "metadata": {
        "id": "lsM2ZFvc97ZQ"
      },
      "outputs": [],
      "source": [
        "def primo(n):\n",
        "  \n",
        "  cont = 0\n",
        "  for i in range(1, n+1):\n",
        "    if n % i == 0:\n",
        "      \n",
        "      cont += 1\n",
        "\n",
        "  if cont == 2:\n",
        "    return True\n",
        "  else:\n",
        "    return False\n",
        "c=0\n",
        "a,b=map(int,input(\"introduce un numero de inicio y fin\").split())\n",
        "for i in range(a,b+1):\n",
        "  if primo(i):\n",
        "    c+=1\n",
        "print(c)\n"
      ]
    },
    {
      "cell_type": "markdown",
      "metadata": {
        "id": "g4l9ziHhCd4S"
      },
      "source": [
        "busqueda binaria"
      ]
    },
    {
      "cell_type": "code",
      "execution_count": null,
      "metadata": {
        "id": "YJN8Kg9-Cfau"
      },
      "outputs": [],
      "source": [
        "def busqueda_binaria(vec,x):\n",
        "    vec.sort() #ordena 1 3 5 7 9 11 13 15 17 19 21 23\n",
        "    izq=0\n",
        "    der=len(vec) - 1\n",
        "    while(izq<=der):\n",
        "        mitad=(izq+der)//2\n",
        "        if vec[mitad]==x:\n",
        "             return False\n",
        "        elif vec[mitad] > x:\n",
        "            der=mitad-1\n",
        "        else:\n",
        "            izq=mitad+1\n",
        "    return True\n",
        "            \n",
        "#==================NUESTRO MENU==================           \n",
        "vec=[21,23,19,15,17,13,9,11,7,5,1,3]\n",
        "numerobuscado=15          \n",
        "if(busqueda_binaria(vec,numerobuscado)):\n",
        "    print(\"no existe ese numero\")\n",
        "else:\n",
        "    print(\"si existe\")"
      ]
    },
    {
      "cell_type": "markdown",
      "metadata": {
        "id": "llZq0TuuFScV"
      },
      "source": [
        "busqueda secuencial\n",
        "¿Hola, qué tal?"
      ]
    },
    {
      "cell_type": "code",
      "execution_count": null,
      "metadata": {
        "id": "PGKWgrrAFUp2"
      },
      "outputs": [],
      "source": [
        "def Busqueda_Secuencial(vec,x):\n",
        "    for i in range(len(vec)):\n",
        "        if(vec[i]==x):\n",
        "            return True\n",
        "    return False\n",
        "\n",
        "vec=[21,23,19,15,17,13,9,11,7,5,1,3]\n",
        "numerobuscado=4\n",
        "\n",
        "if(Busqueda_Secuencial(vec,numerobuscado)):\n",
        "    print(\"si existe\")\n",
        "else:\n",
        "    print(\"no existe ese numero\")"
      ]
    },
    {
      "cell_type": "markdown",
      "metadata": {
        "id": "loXqF18idV1Q"
      },
      "source": [
        "n en raya"
      ]
    },
    {
      "cell_type": "code",
      "execution_count": null,
      "metadata": {
        "id": "KBMFe-DJdXaP"
      },
      "outputs": [],
      "source": [
        "n=int(input())\n",
        "matriz=[]\n",
        "for i in range(n):\n",
        "    matriz.append(input().replace(\" \",\"\"))\n",
        "luis=0\n",
        "vero=0\n",
        "l=0\n",
        "v=0\n",
        "for i in range(n):\n",
        "    for j in range(n):\n",
        "        if(matriz[i][j]==\"X\"):\n",
        "            vero=vero+1\n",
        "        else:\n",
        "            luis=luis+1\n",
        "    if(vero==n):\n",
        "        v=1\n",
        "    if(luis==n):\n",
        "        l=1\n",
        "    luis=0\n",
        "    vero=0\n",
        "for i in range(n):\n",
        "    for j in range(n):\n",
        "        if(matriz[j][i]==\"X\"):\n",
        "            vero=vero+1\n",
        "        else:\n",
        "            luis=luis+1\n",
        "    if(vero==n):\n",
        "        v=1\n",
        "    if(luis==n):\n",
        "        l=1\n",
        "    luis=0\n",
        "    vero=0\n",
        "dere=0\n",
        "for i in range(n):\n",
        "    if(matriz[i][dere]==\"X\"):\n",
        "        vero=vero+1\n",
        "    else:\n",
        "        luis=luis+1\n",
        "    dere=dere+1\n",
        "if(vero==n):\n",
        "    v=1\n",
        "if(luis==n):\n",
        "    l=1\n",
        "luis=0\n",
        "vero=0\n",
        "dere=n-1\n",
        "for i in range(n):\n",
        "    if(matriz[dere][i]==\"X\"):\n",
        "        vero=vero+1\n",
        "    else:\n",
        "        luis=luis+1\n",
        "    dere=dere-1\n",
        "if(vero==n):\n",
        "    v=1\n",
        "if(luis==n):\n",
        "    l=1\n",
        "if(v==1 and l==0):\n",
        "    print(\"Vero\")\n",
        "elif(l==1 and v==0):\n",
        "    print(\"Luis\")\n",
        "elif(l==1 and v==1):\n",
        "    print(\"Empate\")\n",
        "else:\n",
        "    print(\"Empate\")\n",
        "mip-ffet-pro"
      ]
    },
    {
      "cell_type": "markdown",
      "metadata": {
        "id": "MZjU8OpvjdFD"
      },
      "source": [
        "montanas matematicas"
      ]
    },
    {
      "cell_type": "code",
      "execution_count": null,
      "metadata": {
        "id": "buwP-fxcjfL8"
      },
      "outputs": [],
      "source": [
        "def suma(vec,index):\n",
        "    suma=0\n",
        "    while(index > 0):\n",
        "        suma+=vec[index]\n",
        "        index-=index & (-index)\n",
        "    return suma\n",
        "def cargar(vec,n,index,var1):\n",
        "    while(index<=n):\n",
        "        vec[index]+=var1\n",
        "        index+=index & (-index)\n",
        "def contar(vec,n):\n",
        "    cont=0\n",
        "    maxi=max(vec)\n",
        "    BitR=[0]*(maxi+1)\n",
        "    BitL=[0]*(maxi+1)\n",
        "    for i in range(n-1,0,-1):\n",
        "        cargar(BitR,maxi,vec[i],1)\n",
        "    cargar(BitL,maxi,vec[0],1)\n",
        "    for i in range(1,n-1):\n",
        "        cargar(BitR,maxi,vec[i],-1)\n",
        "        L=suma(BitL,vec[i]-1)\n",
        "        R=suma(BitR,vec[i]-1)\n",
        "        cont+=(L*R)\n",
        "        cargar(BitL,maxi,vec[i],1)\n",
        "    return cont\n",
        "for j in range(int(input())):\n",
        "    n=int(input())\n",
        "    l=[int(k) for k in input().split()]\n",
        "    print(contar(l,n))\n"
      ]
    },
    {
      "cell_type": "markdown",
      "metadata": {
        "id": "vZSWDOHjj1HF"
      },
      "source": [
        "sin repeticiones aaron"
      ]
    },
    {
      "cell_type": "code",
      "execution_count": null,
      "metadata": {
        "id": "Kq59ajThj3zg"
      },
      "outputs": [],
      "source": [
        "import sys\n",
        "criba=[0]*1000001\n",
        "for i in range(2,1000001):\n",
        "    if(criba[i]==0):\n",
        "        for j in range(i,1000001,i):\n",
        "            criba[j]=criba[j]+i\n",
        "for leer in sys.stdin:\n",
        "    a,b=map(int,leer.split())\n",
        "    for i in range(a,b):\n",
        "        if(criba[i]==criba[i+1]):\n",
        "            print(i,i+1)"
      ]
    },
    {
      "cell_type": "markdown",
      "metadata": {
        "id": "yAbYTRzDJ2OY"
      },
      "source": [
        "Alex Jhon Y Las Monedas"
      ]
    },
    {
      "cell_type": "code",
      "execution_count": null,
      "metadata": {
        "id": "MB-AxG-iJ5Fm"
      },
      "outputs": [],
      "source": [
        "for _ in range(int(input())):\n",
        "  c=1\n",
        "  r=input()\n",
        "  n=[int(k) for k in input().split()]\n",
        "  n.sort()\n",
        "  ##print(\"==========\",n)\n",
        "  for i in range(len(n)):\n",
        "    if c<=n[i]:\n",
        "      ##print(n[i])\n",
        "      c+=1\n",
        "  print(c-1)"
      ]
    },
    {
      "cell_type": "markdown",
      "metadata": {
        "id": "S9_uxK2gkLJr"
      },
      "source": [
        "6174"
      ]
    },
    {
      "cell_type": "code",
      "execution_count": null,
      "metadata": {
        "id": "zQ-zWKutkORc"
      },
      "outputs": [],
      "source": [
        "def unir(u):\n",
        "  l=\"\"\n",
        "  for j in range(len(u)):\n",
        "    l=l+u[j]\n",
        "  return(int(l))\n",
        "\n",
        "def maxx(n):\n",
        "  n=sorted(n)\n",
        "  aux=[]\n",
        "  for i in range(len(n)-1,-1,-1):\n",
        "    aux.append(n[i])\n",
        "  m=unir(aux)\n",
        "  return (m)\n",
        "\n",
        "def minn(n):\n",
        "  n=sorted(n)\n",
        "  mm=unir(n)  \n",
        "  return (mm)\n",
        "\n",
        "def char(n):\n",
        "  return[char for char in n]\n",
        "\n",
        "\n",
        "for _ in range(int(input())):\n",
        "  c=0\n",
        "  n=str(input())\n",
        "  \n",
        "  while(n!=\"6174\"):\n",
        "    \n",
        "    n=char(n)\n",
        "    \n",
        "    min=minn(n)\n",
        "    max=maxx(n)\n",
        "    \n",
        "    n=str(max-min)\n",
        "    c+=1\n",
        "  print(c)"
      ]
    },
    {
      "cell_type": "markdown",
      "metadata": {
        "id": "aPfE3Qyf2KMN"
      },
      "source": [
        "Nueva serie"
      ]
    },
    {
      "cell_type": "code",
      "execution_count": null,
      "metadata": {
        "id": "PHm31GU12Njd"
      },
      "outputs": [],
      "source": [
        "def gcd(a,b):\n",
        "  \n",
        "\n",
        "for _ in range(int,input().split()):\n",
        "  a=0\n",
        "  n=int(input())\n",
        "  if gcd(n,a(n−1))==1:\n",
        "      a(n)=a(n−1)+n+1\n",
        "  else\n",
        "      a(n)=a(n−1)/gcd(n,a(n−1))\n",
        "  print(a,n)"
      ]
    },
    {
      "cell_type": "markdown",
      "metadata": {
        "id": "CTLQJ_yY5GcK"
      },
      "source": [
        "Copia Detectada!!!"
      ]
    },
    {
      "cell_type": "code",
      "execution_count": null,
      "metadata": {
        "id": "yVb1WZOW5I98"
      },
      "outputs": [],
      "source": [
        "def copia(n):\n",
        "  ma=0\n",
        "  mi=0\n",
        "  \n",
        "  for i in range(len(n)):\n",
        "    if n[i]==max(n):\n",
        "      ma+=1\n",
        "    if n[i]== min(n):\n",
        "      mi+=1\n",
        "  if ma==1:\n",
        "    return(n.index(max(n)))\n",
        "  if mi==1:\n",
        "    return(n.index(min(n)))\n",
        "\n",
        "for _ in range(int(input())):\n",
        "  q=input()\n",
        "  n=list(map(int,input().split()))\n",
        "  \n",
        "  print(copia(n))\n"
      ]
    },
    {
      "cell_type": "markdown",
      "metadata": {
        "id": "vtXZHTcHE28U"
      },
      "source": [
        "recuadros"
      ]
    },
    {
      "cell_type": "code",
      "execution_count": null,
      "metadata": {
        "id": "Q5evWkttE7dZ"
      },
      "outputs": [],
      "source": [
        "def unir(a,b,n):\n",
        "  for l in range(n):\n",
        "    a[l].extend(b[l])\n",
        "    print(*a[l],sep=\"-\")\n",
        "  return(a)\n",
        "\n",
        "def escribir(m,n,k,nn):\n",
        "  for x in range(n):\n",
        "    for y in range(n):\n",
        "     if((x>=0+k and x<=n-1-k) and ( y>=0+k and y<=n-1-k)):\n",
        "\n",
        "       m[x][y]=nn\n",
        "\n",
        "  return(m)\n",
        "\n",
        "    \n",
        "def matriz(n):\n",
        "  w, h = n, n;\n",
        "  m = [[\"\" for x in range(w)] for y in range(h)] ##crear matriz bidimensional\n",
        "  return(m)\n",
        "\n",
        "n=int(input())\n",
        "a=matriz(n)\n",
        "b=matriz(n)\n",
        "c=0\n",
        "d=0\n",
        "for k in range(n+1):\n",
        "  \n",
        "  if k & 1==0:\n",
        "    a=escribir(a,n,d,k)\n",
        "    d=d+1\n",
        "  else:\n",
        "    b=escribir(b,n,c,k)\n",
        "    c=c+1 \n",
        "\n",
        "print(\"MOSTRANDO MATRIZ...\")\n",
        "a=unir(a,b,n)  \n",
        "\n",
        "#mostrar(b,n)\n"
      ]
    },
    {
      "cell_type": "code",
      "execution_count": null,
      "metadata": {
        "id": "BMM2uNGWOcBG"
      },
      "outputs": [],
      "source": [
        "Lista1 = [1, 2, 3]\n",
        "Lista2 = [4, 5, 6]\n",
        "Lista1.extend(Lista2) #Añadimos la lista2 como extensión de Lista1\n",
        "print (Lista1)"
      ]
    },
    {
      "cell_type": "markdown",
      "source": [
        "Ari y las tarjetas perforadas"
      ],
      "metadata": {
        "id": "dE3Rr6scm9lP"
      }
    },
    {
      "cell_type": "code",
      "source": [
        "for k in range(int(input())):\n",
        "  y,x=map(int,input().split())\n",
        "  print(\"Tarjeta #\"+str(k+1)+\":\")\n",
        "  print(\"..\"+\"+-\"*(x-1)+\"+\")\n",
        "  for i in range(y):\n",
        "    if(i==0):\n",
        "      print(\"..\"+\"|.\"*(x-1)+\"|\")\n",
        "    else:\n",
        "      print(\"|.\"+\"|.\"*(x-1)+\"|\")\n",
        "    print(\"+-\"+\"+-\"*(x-1)+\"+\")\n"
      ],
      "metadata": {
        "id": "b4zQKiv6nACU"
      },
      "execution_count": null,
      "outputs": []
    },
    {
      "cell_type": "markdown",
      "source": [
        "Lista Modulo N"
      ],
      "metadata": {
        "id": "O0-gLZXzqa26"
      }
    },
    {
      "cell_type": "code",
      "source": [
        "def mostrar(v,n1):\n",
        "  lis=[]\n",
        "  for j in range(1,len(v)-1 ):\n",
        "    if(v[j] != n1):\n",
        "     \n",
        "      lis.append(v[j])\n",
        "    else:\n",
        "      lis.append(n1)\n",
        "      break\n",
        "  return (lis)\n",
        "\n",
        "def ch(a):#                           separar cadenas letra por letra\n",
        "  return [char for char in a]\n",
        "\n",
        "def ultim(v):\n",
        "  return(v.pop())\n",
        "\n",
        "for _ in range(int(input())):\n",
        "  n,p=map(int,input().split())\n",
        "  for i in range(1,p+1):\n",
        "    m=ch(str(n**i))\n",
        "    print(*m,sep=\"\")\n",
        "    m=ultim(m)\n",
        "    \n",
        "    if(i==1):\n",
        "      n1=m\n",
        "      lis=[]\n",
        "    lis.append(m)\n",
        "  #print(*mostrar(lis,n1),sep=\",\")\n",
        " "
      ],
      "metadata": {
        "id": "OPyV8gAaqgHQ"
      },
      "execution_count": null,
      "outputs": []
    },
    {
      "cell_type": "markdown",
      "source": [
        "Capicua\n"
      ],
      "metadata": {
        "id": "8pxZuQ6k0Cyl"
      }
    },
    {
      "cell_type": "code",
      "source": [
        "for _ in range(int(input())):\n",
        "  c=0\n",
        "  m=(int(input()))\n",
        "  n=10**(m)\n",
        "  for i in range(10**(m-1),n):\n",
        "    i=str(i)\n",
        "    if(i==i[::-1]): # invertir lista( lista[::-1] )\n",
        "      c+=1\n",
        "      \n",
        "  print(c,\"==========\")\n"
      ],
      "metadata": {
        "id": "iYBAM-c10E3f"
      },
      "execution_count": null,
      "outputs": []
    },
    {
      "cell_type": "code",
      "source": [
        "for _ in range(int(input())):\n",
        "  m=(int(input()))\n",
        "  if m==2:\n",
        "    print(\"9\")\n",
        "  if m==3 or m==4:\n",
        "    print(\"90\")\n",
        "  if m==5 or m==6:\n",
        "    print(\"900\")\n",
        "  if m==7 or m==8:\n",
        "    print(\"9000\")\n",
        "  if m==9 or m==10:\n",
        "    print(\"90000\")"
      ],
      "metadata": {
        "id": "NoJziF4y17Yy"
      },
      "execution_count": null,
      "outputs": []
    },
    {
      "cell_type": "markdown",
      "source": [
        "Secuencia de Fracciones"
      ],
      "metadata": {
        "id": "eVzy0x8JBTCj"
      }
    },
    {
      "cell_type": "code",
      "source": [
        "from fractions import Fraction\n",
        "for _ in range(int(input())):\n",
        "  n=int(input())\n",
        "  m=(\"0.\"+str((5+n)-1))\n",
        "  m=float(m)\n",
        "  if(n==0):\n",
        "    print(\"1\") \n",
        "  else:\n",
        "    if(n==2):\n",
        "      print(\"2/3\")\n",
        "    else:\n",
        "      print(Fraction(m).limit_denominator())"
      ],
      "metadata": {
        "id": "4MCi5MN1BW5y"
      },
      "execution_count": null,
      "outputs": []
    },
    {
      "cell_type": "markdown",
      "source": [
        "1. Utilizando modularidad: Dado un lote de N números, mostrar los dígitos\n",
        "central(es) de cada número."
      ],
      "metadata": {
        "id": "0eBwWoyQuX3j"
      }
    },
    {
      "cell_type": "code",
      "source": [
        "for _ in range(int(input())):\n",
        "  n=list(map(int,input().split()))#convierte str en una lista\n",
        "  print(n)\n",
        "  \n"
      ],
      "metadata": {
        "id": "rLhieIISuZ28"
      },
      "execution_count": null,
      "outputs": []
    },
    {
      "cell_type": "markdown",
      "source": [
        "examen eje1"
      ],
      "metadata": {
        "id": "45fzPgKIs_cH"
      }
    },
    {
      "cell_type": "code",
      "source": [
        "def mostrar(v,x,y):\n",
        "  for i in range(y):\n",
        "    print(*v[i],sep=\" \")\n",
        "\n",
        "def matriz(x,y):\n",
        "  w, h = x, y;\n",
        "  m = [[\"0\" for x in range(w)] for y in range(h)] \n",
        "  \n",
        "  for x in range(w):\n",
        "    for y in range(h):\n",
        "      if(x*2==w):\n",
        "        m[y][x],m[y-1][x-1]=1,1\n",
        "      if(y*2==h):\n",
        "        m[y][x],m[y-1][x-1]=1,1\n",
        "      if((x*2)+1==w):\n",
        "        m[y][x]=1\n",
        "      if((y*2)+1==h):\n",
        "        m[y][x]=1\n",
        "\n",
        "  return(m)\n",
        "x,y=map(int,input().split())\n",
        "vec=matriz(x,y)\n",
        "mostrar(vec,x,y)\n"
      ],
      "metadata": {
        "id": "R1V8mMqLtCAW"
      },
      "execution_count": null,
      "outputs": []
    },
    {
      "cell_type": "markdown",
      "source": [
        "examen eje2"
      ],
      "metadata": {
        "id": "5GOajlhg2RPi"
      }
    },
    {
      "cell_type": "code",
      "source": [
        "def mostrar(v,x,y):\n",
        "  for i in range(y):\n",
        "    print(*v[i],sep=\" \")\n",
        "\n",
        "def matriz(x,y):\n",
        "  w, h = x, y;\n",
        "  m = [[\"0\" for x in range(w)] for y in range(h)]\n",
        "  for x in range(0,w,2):\n",
        "    for y in range(h):\n",
        "      m[y][x]=1\n",
        "      \n",
        "    \n",
        "  return(m)\n",
        "\n",
        "\n",
        "\n",
        "\n",
        "\n",
        "\n",
        "\n",
        "  3\n",
        "  \n",
        "  \n",
        "\n",
        "x,y=map(int,input().split())\n",
        "vec=matriz(x,y)g\n",
        "mostrar(vec,x,y)"
      ],
      "metadata": {
        "id": "fxSkH19E2TbS"
      },
      "execution_count": null,
      "outputs": []
    },
    {
      "cell_type": "code",
      "source": [
        "v=[1,2,3,4,5,61,12,23,34,45,56,67,78,98]\n",
        "list(filter(lambda iterador:iterador%2!=0,v))# filtro de una lista"
      ],
      "metadata": {
        "id": "vqQMyxaV5kLE"
      },
      "execution_count": null,
      "outputs": []
    },
    {
      "cell_type": "code",
      "source": [
        "v=[1,3,4,1,2,3,2,4,4,5,0]\n",
        "print(v)\n",
        "print(*set(v),sep=\" \")#eliminar repetidos de una lista"
      ],
      "metadata": {
        "id": "h1SQH9_y6zFP"
      },
      "execution_count": null,
      "outputs": []
    },
    {
      "cell_type": "markdown",
      "source": [
        "mapa"
      ],
      "metadata": {
        "id": "l2E5Q2rHVars"
      }
    },
    {
      "cell_type": "code",
      "source": [
        "\n",
        "x,y=map(int,input().split())\n",
        "x1,y1=map(int,input().split())\n",
        "lis=str(input())\n",
        "lis=list(lis)\n",
        "\n",
        "for i in range(len(lis)):\n",
        "  if(lis[i]==\"w\"):\n",
        "    x1-=1\n",
        "  elif(lis[i]==\"s\"):\n",
        "    x1+=1\n",
        "  elif(lis[i]==\"a\"):\n",
        "    y1-=1\n",
        "  elif(lis[i]==\"d\"):\n",
        "    y1+=1\n",
        "\n",
        "  if(x1>=x):\n",
        "    x1=x-1\n",
        "  if(y1>=y):\n",
        "    y1=y-1\n",
        "\n",
        "  if(x1<0):\n",
        "    x1=0\n",
        "  if(y1<0):\n",
        "    y1=0\n",
        "print(x1,y1)"
      ],
      "metadata": {
        "id": "fr20VvjPVcfy"
      },
      "execution_count": null,
      "outputs": []
    },
    {
      "cell_type": "markdown",
      "source": [
        "secuencia de numeros"
      ],
      "metadata": {
        "id": "xYvB-y5ndJyv"
      }
    },
    {
      "cell_type": "code",
      "source": [
        "#@title camino\n",
        "import functions\n",
        "x=2\n",
        "if primo(x):\n",
        "  print(\"sii\")"
      ],
      "metadata": {
        "id": "bm6O0oQcdSri",
        "cellView": "form"
      },
      "execution_count": null,
      "outputs": []
    },
    {
      "cell_type": "markdown",
      "source": [
        "#**INVIERNO 2022**"
      ],
      "metadata": {
        "id": "XNkR1YVjHs5m"
      }
    },
    {
      "cell_type": "markdown",
      "source": [
        "##INTRODUCCION"
      ],
      "metadata": {
        "id": "8aLY_TKHLw4D"
      }
    },
    {
      "cell_type": "code",
      "source": [
        "#@title mayor de 2\n",
        "a,b=map(int,input().split())\n",
        "if a>b:\n",
        "  print(\"el mayor es: \",a)\n",
        "else:\n",
        "  print(\"el mayor es: \",b)"
      ],
      "metadata": {
        "id": "i54LUiifFtgU",
        "cellView": "form"
      },
      "execution_count": null,
      "outputs": []
    },
    {
      "cell_type": "code",
      "source": [
        "#@title mayor de 4\n",
        "a,b,c,d=map(int,input().split())\n",
        "may=0\n",
        "if a>may:\n",
        "  may=a\n",
        "if b>may:\n",
        "  may=b\n",
        "if c>may:\n",
        "  may=c\n",
        "if d>may:\n",
        "  may=d\n",
        "print(\"el mayor es:\",may)\n"
      ],
      "metadata": {
        "cellView": "form",
        "id": "o0oSDA2pgY11"
      },
      "execution_count": null,
      "outputs": []
    },
    {
      "cell_type": "code",
      "source": [
        "#@title menu\n",
        "print(\"menu \\n 1.pares\\n 2.multiplos de 3\\n 3.salir\\nIngrese una opcion: \")\n",
        "n=int(input())\n",
        "if n==1:\n",
        "  print(\"ingrese N terminos: \")\n",
        "  for i in range(2,int(input())*2+1,2):\n",
        "    print(i)\n",
        "elif n==2:\n",
        "  for j in range(0,int(input())*3,3):\n",
        "    print(j)\n",
        "elif n==3:\n",
        "  print(\"fin de programa: \")\n",
        "else:\n",
        "  print(\"Error de seleccion!\")\n"
      ],
      "metadata": {
        "cellView": "form",
        "id": "Nn4p-8qwh2E2"
      },
      "execution_count": null,
      "outputs": []
    },
    {
      "cell_type": "code",
      "source": [
        "#@title sumatoria\n",
        "nat=1\n",
        "s=0\n",
        "for i in range(int(input(\"introduzca N: \"))+1):\n",
        "  s+=i\n",
        "print(\"la suma es: \",s)"
      ],
      "metadata": {
        "cellView": "form",
        "id": "zJ_SC1eKcMJ6"
      },
      "execution_count": null,
      "outputs": []
    },
    {
      "cell_type": "code",
      "source": [
        "#@title factorial\n",
        "m=1\n",
        "for i in range(1,int(input())+1):\n",
        "  m*=i\n",
        "print(\"factorial: \",m)"
      ],
      "metadata": {
        "cellView": "form",
        "id": "i3rrAtjOc49E"
      },
      "execution_count": null,
      "outputs": []
    },
    {
      "cell_type": "code",
      "source": [
        "#@title menu de 5\n",
        "n=int(input(\"Menu\\n1.par o impar\\n2.primo o no primo\\n3.factorial\\n4.fibonacci\\n5.menor de 3\\nelija una opcion :\"))\n",
        "if n==1:\n",
        "  print(\"ingrese un numero\")\n",
        "  if(int(input())%2==0):\n",
        "    print(\"el numero es par\")\n",
        "  else:\n",
        "    print(\"el numero es impar\")\n",
        "elif n==2:\n",
        "  c=0\n",
        "  x=int(input(\"ingrese un numero\"))\n",
        "  for i in range(1,x+1):\n",
        "    if x%i==0:\n",
        "      c=c+1\n",
        "  if c>2:\n",
        "      print(\"no es primo\")\n",
        "  else:\n",
        "      print(\"es primo\")\n",
        "elif n==3:\n",
        "  m=1\n",
        "  for i in range(1,int(input(\"introduzca un numero: \"))+1):\n",
        "    m*=i\n",
        "  print(\"factorial: \",m)  \n",
        "elif n==4:#-----------------fibonaci\n",
        "  for i in range(int(input(\"introduzca un numero: \"))):\n",
        "    a=-1\n",
        "    b=1\n",
        "    a=b\n",
        "    b=c\n",
        "    print(c)\n",
        "elif n==5:\n",
        "  a,b,c=map(int,input(\"introduzca 3 numeros: \").split())\n",
        "  may=a\n",
        "  if a<may:\n",
        "    may=a\n",
        "  if b<may:\n",
        "    may=b\n",
        "  if c<may:\n",
        "    may=c\n",
        "  print(\"el menor es: \",may)\n",
        "else:\n",
        "  print(\"error de seleccion\")\n",
        "\n"
      ],
      "metadata": {
        "id": "qgBLl9_VwWqj",
        "cellView": "form"
      },
      "execution_count": null,
      "outputs": []
    },
    {
      "cell_type": "code",
      "source": [
        "#@title cambio de  valores entre 2 variables\n",
        "a=int(input(\"un numero A: \"))\n",
        "b=int(input(\"un numero B: \"))\n",
        "a=a+b\n",
        "b=a-b\n",
        "a=a-b\n",
        "print(\"A: \",a,\"b: \",b)"
      ],
      "metadata": {
        "cellView": "form",
        "id": "KDNGmLE-T-hI"
      },
      "execution_count": null,
      "outputs": []
    },
    {
      "cell_type": "code",
      "source": [
        "#@title hallar la suma de los N primeros pares\n",
        "s=0\n",
        "for i in range(2,int(input(\"introducir N: \"))*2+1,2):\n",
        "  #print(i)\n",
        "  s+=i\n",
        "s"
      ],
      "metadata": {
        "cellView": "form",
        "id": "KzNLBbOKcI61"
      },
      "execution_count": null,
      "outputs": []
    },
    {
      "cell_type": "code",
      "source": [
        "#@title hallar el producto de N potencias de 2\n",
        "s=1\n",
        "for i in range(1,int(input(\"introducir N: \"))+1):\n",
        "  print(i**2)\n",
        "  s=s*(i**2)\n",
        "  \n",
        "s"
      ],
      "metadata": {
        "cellView": "form",
        "id": "2m_VIz-NcIyq"
      },
      "execution_count": null,
      "outputs": []
    },
    {
      "cell_type": "code",
      "source": [
        "#@title utilizando while hallar el producto de los N primeros impares\n",
        "i=1\n",
        "p=1\n",
        "c=int(input(\"introducir N: \"))*2\n",
        "while(i<=c):\n",
        "  #print(i)\n",
        "  p*=i\n",
        "  i+=2\n",
        "print(p)"
      ],
      "metadata": {
        "cellView": "form",
        "id": "RJVzgO9tcIlX"
      },
      "execution_count": null,
      "outputs": []
    },
    {
      "cell_type": "code",
      "source": [
        "#@title menu\n",
        "i=0\n",
        "while(i!=4):\n",
        "  i=int(input((\"\\n\\nMENU:\\n 1.-menor de 2 numeros\\n 2.-mostrar la suma de N primeros naturales\\n 3.-nota de estudiante\\n 4.-salir\\nelija una opcion\\n\")))\n",
        "\n",
        "  if i==1:\n",
        "    a=int(input(\"ingrese un numero: \"))\n",
        "    b=int(input(\"ingrese otro numero: \"))\n",
        "    if a<b:\n",
        "      print(\"el menor es: \",a)\n",
        "    else:\n",
        "      print(\"el menor es: \",b)\n",
        "  elif i==2:\n",
        "    s=0\n",
        "    for i in range(1,int(input(\"ingrese N: \"))+1):\n",
        "      s+=i\n",
        "    print(\"la suma es: \",s)\n",
        "  elif i==3:\n",
        "    n=int(input(\"ingrese nota: \"))\n",
        "    if n>51:\n",
        "      print(\"aprobo con: \",n)\n",
        "    else:\n",
        "      print(\"reprobo con: \",n)\n",
        "  elif i==4:\n",
        "    print(\"fin de programa\")\n",
        "  else:\n",
        "    break"
      ],
      "metadata": {
        "cellView": "form",
        "id": "iTinM9Vnji-I"
      },
      "execution_count": null,
      "outputs": []
    },
    {
      "cell_type": "markdown",
      "source": [
        "##SERIES"
      ],
      "metadata": {
        "id": "rxWsQU39LYLe"
      }
    },
    {
      "cell_type": "code",
      "source": [
        "#@title primeros n pares\n",
        "for i in range(2,int(input(\"N; \"))*2+1,2):\n",
        "  print(i)\n"
      ],
      "metadata": {
        "cellView": "form",
        "id": "OPcOOX1PxmpA"
      },
      "execution_count": null,
      "outputs": []
    },
    {
      "cell_type": "code",
      "source": [
        "#@title 1,3,5,7,9,...\n",
        "for i in range(1,int(input(\"N: \"))*2+1):\n",
        "  print(i)"
      ],
      "metadata": {
        "cellView": "form",
        "id": "APOiYo772C9G"
      },
      "execution_count": null,
      "outputs": []
    },
    {
      "cell_type": "code",
      "source": [
        "#@title 5,6,8,11,15,...\n",
        "s=5\n",
        "for i in range(int(input(\"N: \"))):\n",
        "  s=s+i\n",
        "  print(s)"
      ],
      "metadata": {
        "cellView": "form",
        "id": "4GyevmJ62Cun"
      },
      "execution_count": null,
      "outputs": []
    },
    {
      "cell_type": "code",
      "source": [
        "#@title 5,6,4,7,3,8,2,9,1,.....\n",
        "c=5\n",
        "for i in range(1,int(input(\"N: \"))+1):\n",
        "  if i%2==0:\n",
        "    print(c)\n",
        "    c-=i\n",
        "  else:\n",
        "    print(c)\n",
        "    c+=i"
      ],
      "metadata": {
        "cellView": "form",
        "id": "D6YRo7G82CPR"
      },
      "execution_count": null,
      "outputs": []
    },
    {
      "cell_type": "code",
      "source": [
        "#@title 1,3,2,6,3,9,4,12\n",
        "c=0\n",
        "cc=3\n",
        "for i in range(1,int(input(\"N: \"))+1):\n",
        "  if i%2==1:\n",
        "    c+=1\n",
        "    print(c)\n",
        "  else:\n",
        "    print(cc)\n",
        "    cc+=3\n",
        "    \n"
      ],
      "metadata": {
        "cellView": "form",
        "id": "zRgNzbbI8lTr"
      },
      "execution_count": null,
      "outputs": []
    },
    {
      "cell_type": "code",
      "source": [
        "#@title 2,1,2,2,2,3,2,4,2,5,....\n",
        "s=bool\n",
        "s=True\n",
        "c=0\n",
        "for i in range(int(input(\"N: \"))):\n",
        "  if s:\n",
        "    print(2,end=\" \")\n",
        "    s=False\n",
        "  else:\n",
        "    c+=1\n",
        "    print(c,end=\" \")\n",
        "    s=True\\\n"
      ],
      "metadata": {
        "id": "Noz7pHdD8lC-",
        "cellView": "form"
      },
      "execution_count": null,
      "outputs": []
    },
    {
      "cell_type": "code",
      "source": [
        "#@title 0-2-5-0-4-10-0-6-15-0-\n",
        "c=0\n",
        "cc=0\n",
        "s=1\n",
        "for i in range(int(input(\"N: \"))):\n",
        "  if s==1:\n",
        "    print(\"0\",end=\"-\")\n",
        "    s=2\n",
        "  elif s==2:\n",
        "    cc+=2\n",
        "    print(cc,end=\"-\")\n",
        "    s=3\n",
        "  elif s==3:\n",
        "    c+=5\n",
        "    print(c,end=\"-\")\n",
        "    s=1"
      ],
      "metadata": {
        "cellView": "form",
        "id": "l3JSYDN9DPI5"
      },
      "execution_count": null,
      "outputs": []
    },
    {
      "cell_type": "code",
      "source": [
        "#@title 0,1,6  1,2,6  1,2,6  2,3,6  3,4,..\n",
        "a=-1\n",
        "b=1\n",
        "s=1\n",
        "for i in range(int(input(\"N: \"))):\n",
        "  if s==1:\n",
        "    c=a+b\n",
        "    a=b\n",
        "    b=c\n",
        "    print(c,end=\" | \")\n",
        "    s=2\n",
        "  elif s==2:\n",
        "    \n",
        "    print(c+1,end=\" | \")\n",
        "    s=3\n",
        "  elif s==3:\n",
        "    \n",
        "    print(\"6\",end=\" || \")\n",
        "    s=1\n"
      ],
      "metadata": {
        "cellView": "form",
        "id": "UCnglgjqGaBd"
      },
      "execution_count": null,
      "outputs": []
    },
    {
      "cell_type": "code",
      "source": [
        "#@title 2 | 0 | 1 || 4 | 1 | 0 || 8 | 1 | 1 || 16 | 2 | 0 || 32 | 3 | 1 || \n",
        "a=-1\n",
        "b=1\n",
        "s=1\n",
        "cc=0\n",
        "p=0\n",
        "for i in range(int(input(\"N: \"))):\n",
        "  if s==1:\n",
        "    p+=1\n",
        "    print(2**p,end=\" | \")\n",
        "    s=2\n",
        "  elif s==2:\n",
        "    c=a+b\n",
        "    a=b\n",
        "    b=c\n",
        "    print(c,end=\" | \")\n",
        "    s=3\n",
        "  elif s==3:\n",
        "    cc+=1\n",
        "    if cc%2==0:\n",
        "      print(\"0\",end=\" || \")\n",
        "    else:\n",
        "      print(\"1\",end=\" || \")\n",
        "    s=1"
      ],
      "metadata": {
        "cellView": "form",
        "id": "WOT0KXMeMBZi"
      },
      "execution_count": null,
      "outputs": []
    },
    {
      "cell_type": "code",
      "source": [
        "#@title N: 7:   1 2 2 3 3 3 4\n",
        "v=[]\n",
        "n=int(input(\"N: \"))\n",
        "for i in range(1,n+1):\n",
        "  v.extend(list(str(i)*i))\n",
        "print(*(v[0:n]),sep=\" \")"
      ],
      "metadata": {
        "cellView": "form",
        "id": "KUiHSqqlQgA1"
      },
      "execution_count": null,
      "outputs": []
    },
    {
      "cell_type": "code",
      "source": [
        "#@title n=7: 1,2,2,3,3,3,4 simple\n",
        "p=1\n",
        "k=1\n",
        "for i in range(int(input(\"n: \"))):\n",
        "  print(p,end=\"-\")\n",
        "  if(p==k):\n",
        "    p+=1\n",
        "    k=0\n",
        "  k+=1"
      ],
      "metadata": {
        "id": "GaebMAPNobuo",
        "cellView": "form"
      },
      "execution_count": null,
      "outputs": []
    },
    {
      "cell_type": "markdown",
      "source": [
        "##SUMATORIAS"
      ],
      "metadata": {
        "id": "0We94UPBYZH8"
      }
    },
    {
      "cell_type": "code",
      "source": [
        "#@title sumatoria de factoriales de pares\n",
        "s=0\n",
        "for i in range(2,int(input(\"N: \"))*2+1,2):\n",
        "  m=1\n",
        "  for j in range(1,i+1):\n",
        "    m*=j\n",
        "  s+=m\n",
        "s"
      ],
      "metadata": {
        "cellView": "form",
        "id": "6wxwt8IZO0wT"
      },
      "execution_count": null,
      "outputs": []
    },
    {
      "cell_type": "code",
      "source": [
        "#@title suma de i^2/2^i \n",
        "s=0\n",
        "for i in range(1,int(input(\"N: \"))+1):\n",
        "  s+=(i*2)/(2**i)\n",
        "s  "
      ],
      "metadata": {
        "cellView": "form",
        "id": "7MxmYuedYdEz"
      },
      "execution_count": null,
      "outputs": []
    },
    {
      "cell_type": "code",
      "source": [
        "#@title suma de fibonacci  / factorial de impares\n",
        "a,b,s=-1,1,0\n",
        "for i in range(int(input(\"N: \"))):\n",
        "  c=a+b\n",
        "  a=b\n",
        "  b=c\n",
        "  m=1\n",
        "  for j in range(1,i*2+2):\n",
        "    m*=j\n",
        "  s+=(c/m)\n",
        "s"
      ],
      "metadata": {
        "cellView": "form",
        "id": "j_iDkteOcsX9"
      },
      "execution_count": null,
      "outputs": []
    },
    {
      "cell_type": "markdown",
      "source": [
        "##LOTES"
      ],
      "metadata": {
        "id": "YTM_DPKSZrGG"
      }
    },
    {
      "cell_type": "code",
      "source": [
        "#@title suma de pares en lote\n",
        "s=0\n",
        "for _ in range(int(input(\"N: \"))):\n",
        "  n=int(input(\"=\"))\n",
        "  if(n%2==0):\n",
        "    s+=n\n",
        "s"
      ],
      "metadata": {
        "id": "Mv9xliIbZtF1",
        "cellView": "form"
      },
      "execution_count": null,
      "outputs": []
    },
    {
      "cell_type": "code",
      "source": [
        "#@title suma de primos en un lote\n",
        "def primo(n):\n",
        "  c=0\n",
        "  for i in range(1,n+1):\n",
        "    if n%i==0:\n",
        "      c+=1\n",
        "  if c==2:\n",
        "    return True\n",
        "  else:\n",
        "    return False\n",
        "s=0\n",
        "for _ in range(int(input(\"N: \"))):\n",
        "  n=int(input(\"=\"))\n",
        "  if primo(n):\n",
        "    s+=n\n",
        "s"
      ],
      "metadata": {
        "cellView": "form",
        "id": "tD-UQ7FZctH6"
      },
      "execution_count": null,
      "outputs": []
    },
    {
      "cell_type": "code",
      "source": [
        "#@title suma de dos numeros consecutivos \n",
        "s=0\n",
        "for i in range(int(input(\"N: \"))):\n",
        "  p=s \n",
        "  n=int(input())\n",
        "  s=n\n",
        "  if(i!=0):\n",
        "    print(\"=\",p+n)"
      ],
      "metadata": {
        "cellView": "form",
        "id": "UNuLVVJUe8di"
      },
      "execution_count": null,
      "outputs": []
    },
    {
      "cell_type": "code",
      "source": [
        "#@title mostrar multiplos de 3 hasta que se pulse un N-\n",
        "n=0\n",
        "while(n>=0):\n",
        "  n=int(input(\"+:\"))\n",
        "  if n%3==0:\n",
        "    print(\"    = \",n)"
      ],
      "metadata": {
        "cellView": "form",
        "id": "4v-pqK-IlsWW"
      },
      "execution_count": null,
      "outputs": []
    },
    {
      "cell_type": "code",
      "source": [
        "#@title factorial de positivos e invertir negativos\n",
        "p=0\n",
        "ne=0\n",
        "n=int(input(\": \"))\n",
        "while(n!=-1):\n",
        "  if n>=0:\n",
        "    p+=n\n",
        "  else:\n",
        "    ne+=n\n",
        "  n=int(input(\": \"))\n",
        "print(\"negativos\",ne)\n",
        "print(\"positivos\",p)"
      ],
      "metadata": {
        "id": "opKdSbb6oBSM",
        "cellView": "form"
      },
      "execution_count": null,
      "outputs": []
    },
    {
      "cell_type": "markdown",
      "source": [
        "## pract lab 2"
      ],
      "metadata": {
        "id": "90nQBC2127rg"
      }
    },
    {
      "cell_type": "code",
      "source": [
        "#@title 01\n",
        "for i in range(int(input(\"N:\"))):\n",
        "  if i%2==1:\n",
        "    print(\"1\",end=\",\")\n",
        "  else:\n",
        "    print(\"0\",end=\",\")"
      ],
      "metadata": {
        "cellView": "form",
        "id": "xF4tOaZc3AZt"
      },
      "execution_count": null,
      "outputs": []
    },
    {
      "cell_type": "code",
      "source": [
        "#@title 02\n",
        "s=0\n",
        "for i in range(int(input(\"N: \"))):\n",
        "  s+=2**i\n",
        "  print(s,end=\",\")"
      ],
      "metadata": {
        "cellView": "form",
        "id": "14DPz6y-3ctM"
      },
      "execution_count": null,
      "outputs": []
    },
    {
      "cell_type": "code",
      "source": [
        "#@title 03\n",
        "s=0\n",
        "for i in range(1,int(input(\"N: \"))+1):\n",
        "  s+=((2*i)/i)\n",
        "s"
      ],
      "metadata": {
        "cellView": "form",
        "id": "GH6kAE7k348T"
      },
      "execution_count": null,
      "outputs": []
    },
    {
      "cell_type": "code",
      "source": [
        "#@title 04\n",
        "s=0\n",
        "c=0\n",
        "x=int(input(\"X:\"))\n",
        "for i in range(1,int(input(\"N: \"))*2,2):\n",
        "  c+=5\n",
        "  s+=((x*i)/c)\n",
        "print(s)"
      ],
      "metadata": {
        "colab": {
          "base_uri": "https://localhost:8080/"
        },
        "cellView": "form",
        "id": "5UgGsSpJ4RDo",
        "outputId": "d686d941-2291-498c-e918-0b6fbe983786"
      },
      "execution_count": null,
      "outputs": [
        {
          "output_type": "stream",
          "name": "stdout",
          "text": [
            "X:7\n",
            "N: 4\n",
            "8.283333333333335\n"
          ]
        }
      ]
    },
    {
      "cell_type": "code",
      "source": [
        "#@title 05\n",
        "s=0\n",
        "x=int(input(\"X:2\"))\n",
        "for i in range(1,int(input(\"N: \"))+1):\n",
        "  m=1\n",
        "  for j in range(1,i*2+1):\n",
        "    m*=j\n",
        "  s+=((x**(2**i))/m)\n",
        "print(\"=\",s)"
      ],
      "metadata": {
        "colab": {
          "base_uri": "https://localhost:8080/"
        },
        "id": "z5ZwtH1w49av",
        "outputId": "f9ffd2cf-3add-4586-8527-e4782f5ec07a"
      },
      "execution_count": null,
      "outputs": [
        {
          "output_type": "stream",
          "name": "stdout",
          "text": [
            "X:2\n",
            "N: 4\n",
            "= 4.647619047619047\n"
          ]
        }
      ]
    }
  ],
  "metadata": {
    "colab": {
      "collapsed_sections": [],
      "name": "CODIGOS DE RONNY.ipynb",
      "provenance": [],
      "include_colab_link": true
    },
    "kernelspec": {
      "display_name": "Python 3",
      "name": "python3"
    },
    "language_info": {
      "name": "python"
    }
  },
  "nbformat": 4,
  "nbformat_minor": 0
}